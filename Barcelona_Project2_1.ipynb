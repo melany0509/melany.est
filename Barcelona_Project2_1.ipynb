{
    "metadata": {
        "kernelspec": {
            "name": "SQL",
            "display_name": "SQL",
            "language": "sql"
        },
        "language_info": {
            "name": "sql",
            "version": ""
        }
    },
    "nbformat_minor": 2,
    "nbformat": 4,
    "cells": [
        {
            "cell_type": "markdown",
            "source": [
                "# **<u>Barcelona Rent Prices From 2014 - 2022</u>**"
            ],
            "metadata": {
                "azdata_cell_guid": "d6102f4a-757e-4100-aa72-c1fc1a02bc2c"
            },
            "attachments": {}
        },
        {
            "cell_type": "markdown",
            "source": [
                "## <span style=\"color: var(--tw-prose-bold); font-family: Söhne, ui-sans-serif, system-ui, -apple-system, &quot;Segoe UI&quot;, Roboto, Ubuntu, Cantarell, &quot;Noto Sans&quot;, sans-serif, &quot;Helvetica Neue&quot;, Arial, &quot;Apple Color Emoji&quot;, &quot;Segoe UI Emoji&quot;, &quot;Segoe UI Symbol&quot;, &quot;Noto Color Emoji&quot;; font-size: 16px; font-weight: 600; white-space-collapse: preserve;\">1. Average Rent Price Over Time:</span>"
            ],
            "metadata": {
                "azdata_cell_guid": "e6d99f5a-b209-4845-8953-5a3e4aed78ac"
            },
            "attachments": {}
        },
        {
            "cell_type": "code",
            "source": [
                "SELECT Year, ROUND(AVG(Price), 2) AS AvgPrice\r\n",
                "FROM Barcelona_rent_price\r\n",
                "WHERE average_rent = 'average rent (euro/month)'\r\n",
                "GROUP BY Year\r\n",
                "ORDER BY Year;"
            ],
            "metadata": {
                "azdata_cell_guid": "a89f29f0-b259-4d06-87d8-c885e165e9d0",
                "language": "sql",
                "tags": []
            },
            "outputs": [
                {
                    "output_type": "display_data",
                    "data": {
                        "text/html": "(9 rows affected)"
                    },
                    "metadata": {}
                },
                {
                    "output_type": "display_data",
                    "data": {
                        "text/html": "Total execution time: 00:00:00.016"
                    },
                    "metadata": {}
                },
                {
                    "output_type": "execute_result",
                    "execution_count": 5,
                    "data": {
                        "application/vnd.dataresource+json": {
                            "schema": {
                                "fields": [
                                    {
                                        "name": "Year"
                                    },
                                    {
                                        "name": "AvgPrice"
                                    }
                                ]
                            },
                            "data": [
                                {
                                    "Year": "2014",
                                    "AvgPrice": "661.64"
                                },
                                {
                                    "Year": "2015",
                                    "AvgPrice": "695.24"
                                },
                                {
                                    "Year": "2016",
                                    "AvgPrice": "750.96"
                                },
                                {
                                    "Year": "2017",
                                    "AvgPrice": "829.38"
                                },
                                {
                                    "Year": "2018",
                                    "AvgPrice": "874.05"
                                },
                                {
                                    "Year": "2019",
                                    "AvgPrice": "923.32"
                                },
                                {
                                    "Year": "2020",
                                    "AvgPrice": "915.92"
                                },
                                {
                                    "Year": "2021",
                                    "AvgPrice": "871.59"
                                },
                                {
                                    "Year": "2022",
                                    "AvgPrice": "922.55"
                                }
                            ]
                        },
                        "text/html": "<table><tr><th>Year</th><th>AvgPrice</th></tr><tr><td>2014</td><td>661.64</td></tr><tr><td>2015</td><td>695.24</td></tr><tr><td>2016</td><td>750.96</td></tr><tr><td>2017</td><td>829.38</td></tr><tr><td>2018</td><td>874.05</td></tr><tr><td>2019</td><td>923.32</td></tr><tr><td>2020</td><td>915.92</td></tr><tr><td>2021</td><td>871.59</td></tr><tr><td>2022</td><td>922.55</td></tr></table>"
                    },
                    "metadata": {
                        "azdata_chartOptions": {
                            "type": "line",
                            "dataDirection": "vertical",
                            "columnsAsLabels": true,
                            "labelFirstColumn": true,
                            "legendPosition": "top",
                            "dataType": "number"
                        }
                    }
                }
            ],
            "execution_count": 5
        },
        {
            "cell_type": "markdown",
            "source": [
                "## <span style=\"border: 0px solid rgb(217, 217, 227); box-sizing: border-box; --tw-border-spacing-x: 0; --tw-border-spacing-y: 0; --tw-translate-x: 0; --tw-translate-y: 0; --tw-rotate: 0; --tw-skew-x: 0; --tw-skew-y: 0; --tw-scale-x: 1; --tw-scale-y: 1; --tw-pan-x: ; --tw-pan-y: ; --tw-pinch-zoom: ; --tw-scroll-snap-strictness: proximity; --tw-gradient-from-position: ; --tw-gradient-via-position: ; --tw-gradient-to-position: ; --tw-ordinal: ; --tw-slashed-zero: ; --tw-numeric-figure: ; --tw-numeric-spacing: ; --tw-numeric-fraction: ; --tw-ring-inset: ; --tw-ring-offset-width: 0px; --tw-ring-offset-color: #fff; --tw-ring-color: rgba(69,89,164,.5); --tw-ring-offset-shadow: 0 0 transparent; --tw-ring-shadow: 0 0 transparent; --tw-shadow: 0 0 transparent; --tw-shadow-colored: 0 0 transparent; --tw-blur: ; --tw-brightness: ; --tw-contrast: ; --tw-grayscale: ; --tw-hue-rotate: ; --tw-invert: ; --tw-saturate: ; --tw-sepia: ; --tw-drop-shadow: ; --tw-backdrop-blur: ; --tw-backdrop-brightness: ; --tw-backdrop-contrast: ; --tw-backdrop-grayscale: ; --tw-backdrop-hue-rotate: ; --tw-backdrop-invert: ; --tw-backdrop-opacity: ; --tw-backdrop-saturate: ; --tw-backdrop-sepia: ; font-weight: 600; color: var(--tw-prose-bold); font-family: Söhne, ui-sans-serif, system-ui, -apple-system, &quot;Segoe UI&quot;, Roboto, Ubuntu, Cantarell, &quot;Noto Sans&quot;, sans-serif, &quot;Helvetica Neue&quot;, Arial, &quot;Apple Color Emoji&quot;, &quot;Segoe UI Emoji&quot;, &quot;Segoe UI Symbol&quot;, &quot;Noto Color Emoji&quot;; font-size: 16px; white-space-collapse: preserve;\">2. Maximum Price Per Year</span>"
            ],
            "metadata": {
                "language": "sql",
                "azdata_cell_guid": "ea8346e4-d39f-4830-991a-4c8ab1416278"
            },
            "attachments": {}
        },
        {
            "cell_type": "code",
            "source": [
                "SELECT Neighbourhood, MAX(Price) AS MaxPrice\r\n",
                "FROM Barcelona_rent_price\r\n",
                "WHERE average_rent = 'average rent (euro/month)'\r\n",
                "GROUP BY Neighbourhood;"
            ],
            "metadata": {
                "language": "sql",
                "azdata_cell_guid": "3b3a01fb-3a8e-4b37-8935-63b637fb8da8"
            },
            "outputs": [
                {
                    "output_type": "display_data",
                    "data": {
                        "text/html": "(9 rows affected)"
                    },
                    "metadata": {}
                },
                {
                    "output_type": "display_data",
                    "data": {
                        "text/html": "Total execution time: 00:00:00.013"
                    },
                    "metadata": {}
                },
                {
                    "output_type": "execute_result",
                    "execution_count": 20,
                    "data": {
                        "application/vnd.dataresource+json": {
                            "schema": {
                                "fields": [
                                    {
                                        "name": "Year"
                                    },
                                    {
                                        "name": "MaxPrice"
                                    }
                                ]
                            },
                            "data": [
                                {
                                    "Year": "2014",
                                    "MaxPrice": "1762.06"
                                },
                                {
                                    "Year": "2015",
                                    "MaxPrice": "2034"
                                },
                                {
                                    "Year": "2016",
                                    "MaxPrice": "1692.2"
                                },
                                {
                                    "Year": "2017",
                                    "MaxPrice": "1882.42"
                                },
                                {
                                    "Year": "2018",
                                    "MaxPrice": "1849.52"
                                },
                                {
                                    "Year": "2019",
                                    "MaxPrice": "2023.4"
                                },
                                {
                                    "Year": "2020",
                                    "MaxPrice": "1932.3"
                                },
                                {
                                    "Year": "2021",
                                    "MaxPrice": "1816.5"
                                },
                                {
                                    "Year": "2022",
                                    "MaxPrice": "1944.5"
                                }
                            ]
                        },
                        "text/html": "<table><tr><th>Year</th><th>MaxPrice</th></tr><tr><td>2014</td><td>1762.06</td></tr><tr><td>2015</td><td>2034</td></tr><tr><td>2016</td><td>1692.2</td></tr><tr><td>2017</td><td>1882.42</td></tr><tr><td>2018</td><td>1849.52</td></tr><tr><td>2019</td><td>2023.4</td></tr><tr><td>2020</td><td>1932.3</td></tr><tr><td>2021</td><td>1816.5</td></tr><tr><td>2022</td><td>1944.5</td></tr></table>"
                    },
                    "metadata": {
                        "azdata_chartOptions": {
                            "type": "bar",
                            "dataDirection": "horizontal",
                            "columnsAsLabels": true,
                            "labelFirstColumn": true,
                            "legendPosition": "top"
                        }
                    }
                }
            ],
            "execution_count": 20
        },
        {
            "cell_type": "markdown",
            "source": [
                "## <span style=\"color: var(--tw-prose-bold); font-family: Söhne, ui-sans-serif, system-ui, -apple-system, &quot;Segoe UI&quot;, Roboto, Ubuntu, Cantarell, &quot;Noto Sans&quot;, sans-serif, &quot;Helvetica Neue&quot;, Arial, &quot;Apple Color Emoji&quot;, &quot;Segoe UI Emoji&quot;, &quot;Segoe UI Symbol&quot;, &quot;Noto Color Emoji&quot;; font-size: 16px; font-weight: 600; white-space-collapse: preserve;\">3. Top 5 Neighborhoods with Highest Average Rent Prices:</span>"
            ],
            "metadata": {
                "language": "sql",
                "azdata_cell_guid": "ded74095-e15a-4689-b065-3bfa8cab4bf3"
            },
            "attachments": {}
        },
        {
            "cell_type": "code",
            "source": [
                "SELECT TOP(5) Neighbourhood, ROUND(AVG(Price), 2) AS AvgPrice\r\n",
                "FROM Barcelona_rent_price\r\n",
                "WHERE average_rent = 'average rent (euro/month)'\r\n",
                "GROUP BY Neighbourhood\r\n",
                "ORDER BY AvgPrice DESC"
            ],
            "metadata": {
                "language": "sql",
                "azdata_cell_guid": "2f455ef7-5314-401a-bd5e-2604deaeca51"
            },
            "outputs": [
                {
                    "output_type": "display_data",
                    "data": {
                        "text/html": "(5 rows affected)"
                    },
                    "metadata": {}
                },
                {
                    "output_type": "display_data",
                    "data": {
                        "text/html": "Total execution time: 00:00:00.036"
                    },
                    "metadata": {}
                },
                {
                    "output_type": "execute_result",
                    "execution_count": 6,
                    "data": {
                        "application/vnd.dataresource+json": {
                            "schema": {
                                "fields": [
                                    {
                                        "name": "Neighbourhood"
                                    },
                                    {
                                        "name": "AvgPrice"
                                    }
                                ]
                            },
                            "data": [
                                {
                                    "Neighbourhood": "Pedralbes",
                                    "AvgPrice": "1711.2"
                                },
                                {
                                    "Neighbourhood": "les Tres Torres",
                                    "AvgPrice": "1550.13"
                                },
                                {
                                    "Neighbourhood": "Sant Gervasi - Galvany",
                                    "AvgPrice": "1283.5"
                                },
                                {
                                    "Neighbourhood": "Sarria",
                                    "AvgPrice": "1266.71"
                                },
                                {
                                    "Neighbourhood": "la Vila Olimpica del Poblenou",
                                    "AvgPrice": "1243.12"
                                }
                            ]
                        },
                        "text/html": "<table><tr><th>Neighbourhood</th><th>AvgPrice</th></tr><tr><td>Pedralbes</td><td>1711.2</td></tr><tr><td>les Tres Torres</td><td>1550.13</td></tr><tr><td>Sant Gervasi - Galvany</td><td>1283.5</td></tr><tr><td>Sarria</td><td>1266.71</td></tr><tr><td>la Vila Olimpica del Poblenou</td><td>1243.12</td></tr></table>"
                    },
                    "metadata": {
                        "azdata_chartOptions": {
                            "type": "horizontalBar",
                            "dataDirection": "horizontal",
                            "columnsAsLabels": true,
                            "labelFirstColumn": true,
                            "legendPosition": "top",
                            "dataType": "number",
                            "encoding": "hex",
                            "imageFormat": "jpeg"
                        }
                    }
                }
            ],
            "execution_count": 6
        },
        {
            "cell_type": "markdown",
            "source": [
                "## <span style=\"border: 0px solid rgb(217, 217, 227); box-sizing: border-box; --tw-border-spacing-x: 0; --tw-border-spacing-y: 0; --tw-translate-x: 0; --tw-translate-y: 0; --tw-rotate: 0; --tw-skew-x: 0; --tw-skew-y: 0; --tw-scale-x: 1; --tw-scale-y: 1; --tw-pan-x: ; --tw-pan-y: ; --tw-pinch-zoom: ; --tw-scroll-snap-strictness: proximity; --tw-gradient-from-position: ; --tw-gradient-via-position: ; --tw-gradient-to-position: ; --tw-ordinal: ; --tw-slashed-zero: ; --tw-numeric-figure: ; --tw-numeric-spacing: ; --tw-numeric-fraction: ; --tw-ring-inset: ; --tw-ring-offset-width: 0px; --tw-ring-offset-color: #fff; --tw-ring-color: rgba(69,89,164,.5); --tw-ring-offset-shadow: 0 0 transparent; --tw-ring-shadow: 0 0 transparent; --tw-shadow: 0 0 transparent; --tw-shadow-colored: 0 0 transparent; --tw-blur: ; --tw-brightness: ; --tw-contrast: ; --tw-grayscale: ; --tw-hue-rotate: ; --tw-invert: ; --tw-saturate: ; --tw-sepia: ; --tw-drop-shadow: ; --tw-backdrop-blur: ; --tw-backdrop-brightness: ; --tw-backdrop-contrast: ; --tw-backdrop-grayscale: ; --tw-backdrop-hue-rotate: ; --tw-backdrop-invert: ; --tw-backdrop-opacity: ; --tw-backdrop-saturate: ; --tw-backdrop-sepia: ; font-weight: 600; color: var(--tw-prose-bold); font-family: Söhne, ui-sans-serif, system-ui, -apple-system, &quot;Segoe UI&quot;, Roboto, Ubuntu, Cantarell, &quot;Noto Sans&quot;, sans-serif, &quot;Helvetica Neue&quot;, Arial, &quot;Apple Color Emoji&quot;, &quot;Segoe UI Emoji&quot;, &quot;Segoe UI Symbol&quot;, &quot;Noto Color Emoji&quot;; font-size: 16px; white-space-collapse: preserve;\">4. Annual Rent Price Change Percentage:</span>"
            ],
            "metadata": {
                "language": "sql",
                "azdata_cell_guid": "8a350a70-f24d-43b4-b32b-16acc88415e6"
            },
            "attachments": {}
        },
        {
            "cell_type": "code",
            "source": [
                "SELECT Year, ROUND(((AVG(Price) - LAG(AVG(Price), 1) OVER (ORDER BY Year)) / LAG(AVG(Price), 1) OVER (ORDER BY Year)) * 100, 2) AS PriceChangePercentage\r\n",
                "FROM Barcelona_rent_price\r\n",
                "WHERE average_rent = 'average rent (euro/month)'\r\n",
                "GROUP BY Year\r\n",
                "ORDER BY Year;"
            ],
            "metadata": {
                "language": "sql",
                "azdata_cell_guid": "185f0de7-028f-4a20-b11f-408da4840301",
                "tags": []
            },
            "outputs": [
                {
                    "output_type": "display_data",
                    "data": {
                        "text/html": "(9 rows affected)"
                    },
                    "metadata": {}
                },
                {
                    "output_type": "display_data",
                    "data": {
                        "text/html": "Total execution time: 00:00:00.008"
                    },
                    "metadata": {}
                },
                {
                    "output_type": "execute_result",
                    "execution_count": 2,
                    "data": {
                        "application/vnd.dataresource+json": {
                            "schema": {
                                "fields": [
                                    {
                                        "name": "Year"
                                    },
                                    {
                                        "name": "PriceChangePercentage"
                                    }
                                ]
                            },
                            "data": [
                                {
                                    "Year": "2014",
                                    "PriceChangePercentage": "NULL"
                                },
                                {
                                    "Year": "2015",
                                    "PriceChangePercentage": "5.08"
                                },
                                {
                                    "Year": "2016",
                                    "PriceChangePercentage": "8.01"
                                },
                                {
                                    "Year": "2017",
                                    "PriceChangePercentage": "10.44"
                                },
                                {
                                    "Year": "2018",
                                    "PriceChangePercentage": "5.39"
                                },
                                {
                                    "Year": "2019",
                                    "PriceChangePercentage": "5.64"
                                },
                                {
                                    "Year": "2020",
                                    "PriceChangePercentage": "-0.8"
                                },
                                {
                                    "Year": "2021",
                                    "PriceChangePercentage": "-4.84"
                                },
                                {
                                    "Year": "2022",
                                    "PriceChangePercentage": "5.85"
                                }
                            ]
                        },
                        "text/html": "<table><tr><th>Year</th><th>PriceChangePercentage</th></tr><tr><td>2014</td><td>NULL</td></tr><tr><td>2015</td><td>5.08</td></tr><tr><td>2016</td><td>8.01</td></tr><tr><td>2017</td><td>10.44</td></tr><tr><td>2018</td><td>5.39</td></tr><tr><td>2019</td><td>5.64</td></tr><tr><td>2020</td><td>-0.8</td></tr><tr><td>2021</td><td>-4.84</td></tr><tr><td>2022</td><td>5.85</td></tr></table>"
                    },
                    "metadata": {
                        "azdata_chartOptions": {
                            "type": "horizontalBar",
                            "dataDirection": "vertical",
                            "columnsAsLabels": true,
                            "labelFirstColumn": true,
                            "legendPosition": "top",
                            "dataType": "number"
                        }
                    }
                }
            ],
            "execution_count": 2
        },
        {
            "cell_type": "markdown",
            "source": [
                "## <span style=\"border: 0px solid rgb(217, 217, 227); box-sizing: border-box; --tw-border-spacing-x: 0; --tw-border-spacing-y: 0; --tw-translate-x: 0; --tw-translate-y: 0; --tw-rotate: 0; --tw-skew-x: 0; --tw-skew-y: 0; --tw-scale-x: 1; --tw-scale-y: 1; --tw-pan-x: ; --tw-pan-y: ; --tw-pinch-zoom: ; --tw-scroll-snap-strictness: proximity; --tw-gradient-from-position: ; --tw-gradient-via-position: ; --tw-gradient-to-position: ; --tw-ordinal: ; --tw-slashed-zero: ; --tw-numeric-figure: ; --tw-numeric-spacing: ; --tw-numeric-fraction: ; --tw-ring-inset: ; --tw-ring-offset-width: 0px; --tw-ring-offset-color: #fff; --tw-ring-color: rgba(69,89,164,.5); --tw-ring-offset-shadow: 0 0 transparent; --tw-ring-shadow: 0 0 transparent; --tw-shadow: 0 0 transparent; --tw-shadow-colored: 0 0 transparent; --tw-blur: ; --tw-brightness: ; --tw-contrast: ; --tw-grayscale: ; --tw-hue-rotate: ; --tw-invert: ; --tw-saturate: ; --tw-sepia: ; --tw-drop-shadow: ; --tw-backdrop-blur: ; --tw-backdrop-brightness: ; --tw-backdrop-contrast: ; --tw-backdrop-grayscale: ; --tw-backdrop-hue-rotate: ; --tw-backdrop-invert: ; --tw-backdrop-opacity: ; --tw-backdrop-saturate: ; --tw-backdrop-sepia: ; font-weight: 600; color: var(--tw-prose-bold); font-family: Söhne, ui-sans-serif, system-ui, -apple-system, &quot;Segoe UI&quot;, Roboto, Ubuntu, Cantarell, &quot;Noto Sans&quot;, sans-serif, &quot;Helvetica Neue&quot;, Arial, &quot;Apple Color Emoji&quot;, &quot;Segoe UI Emoji&quot;, &quot;Segoe UI Symbol&quot;, &quot;Noto Color Emoji&quot;; font-size: 16px; white-space-collapse: preserve;\">5. Year, Trimester, District</span>"
            ],
            "metadata": {
                "language": "sql",
                "azdata_cell_guid": "fa74bd8d-7af3-4bef-954e-a8caf5a34fdb"
            },
            "attachments": {}
        },
        {
            "cell_type": "code",
            "source": [
                "SELECT\r\n",
                "    Year,\r\n",
                "    Trimester,\r\n",
                "    District,\r\n",
                "    ROUND(AVG(Price), 2) AS AvgPrice,\r\n",
                "    MAX(Price) AS MaxPrice,\r\n",
                "    MIN(Price) AS MinPrice\r\n",
                "FROM\r\n",
                "    Barcelona_rent_price\r\n",
                "WHERE average_rent = 'average rent (euro/month)'\r\n",
                "GROUP BY\r\n",
                "    Year, Trimester, District;"
            ],
            "metadata": {
                "language": "sql",
                "azdata_cell_guid": "8afe1b8e-c409-452b-b045-fac504c884b0"
            },
            "outputs": [
                {
                    "output_type": "display_data",
                    "data": {
                        "text/html": "(340 rows affected)"
                    },
                    "metadata": {}
                },
                {
                    "output_type": "display_data",
                    "data": {
                        "text/html": "Total execution time: 00:00:00.021"
                    },
                    "metadata": {}
                },
                {
                    "output_type": "execute_result",
                    "execution_count": 1,
                    "data": {
                        "application/vnd.dataresource+json": {
                            "schema": {
                                "fields": [
                                    {
                                        "name": "Year"
                                    },
                                    {
                                        "name": "Trimester"
                                    },
                                    {
                                        "name": "District"
                                    },
                                    {
                                        "name": "AvgPrice"
                                    },
                                    {
                                        "name": "MaxPrice"
                                    },
                                    {
                                        "name": "MinPrice"
                                    }
                                ]
                            },
                            "data": [
                                {
                                    "Year": "2014",
                                    "Trimester": "1",
                                    "District": "Ciutat Vella",
                                    "AvgPrice": "629.12",
                                    "MaxPrice": "712.79",
                                    "MinPrice": "540.71"
                                },
                                {
                                    "Year": "2014",
                                    "Trimester": "1",
                                    "District": "Eixample",
                                    "AvgPrice": "761.38",
                                    "MaxPrice": "921.4",
                                    "MinPrice": "673.37"
                                },
                                {
                                    "Year": "2014",
                                    "Trimester": "1",
                                    "District": "Gracia",
                                    "AvgPrice": "649.77",
                                    "MaxPrice": "679.8",
                                    "MinPrice": "583.93"
                                },
                                {
                                    "Year": "2014",
                                    "Trimester": "1",
                                    "District": "Horta-Guinardo",
                                    "AvgPrice": "572.4",
                                    "MaxPrice": "737.73",
                                    "MinPrice": "478.7"
                                },
                                {
                                    "Year": "2014",
                                    "Trimester": "1",
                                    "District": "Les Corts",
                                    "AvgPrice": "902.46",
                                    "MaxPrice": "1230",
                                    "MinPrice": "700.16"
                                },
                                {
                                    "Year": "2014",
                                    "Trimester": "1",
                                    "District": "Nou Barris",
                                    "AvgPrice": "478.36",
                                    "MaxPrice": "613.58",
                                    "MinPrice": "241.99"
                                },
                                {
                                    "Year": "2014",
                                    "Trimester": "1",
                                    "District": "Sant Andreu",
                                    "AvgPrice": "555.59",
                                    "MaxPrice": "626.26",
                                    "MinPrice": "461.1"
                                },
                                {
                                    "Year": "2014",
                                    "Trimester": "1",
                                    "District": "Sant Marti",
                                    "AvgPrice": "671.16",
                                    "MaxPrice": "926.43",
                                    "MinPrice": "516.9"
                                },
                                {
                                    "Year": "2014",
                                    "Trimester": "1",
                                    "District": "Sants-Montjuic",
                                    "AvgPrice": "589.72",
                                    "MaxPrice": "631.5",
                                    "MinPrice": "553.55"
                                },
                                {
                                    "Year": "2014",
                                    "Trimester": "1",
                                    "District": "Sarria-Sant Gervasi",
                                    "AvgPrice": "971.25",
                                    "MaxPrice": "1215.85",
                                    "MinPrice": "750.84"
                                },
                                {
                                    "Year": "2014",
                                    "Trimester": "2",
                                    "District": "Ciutat Vella",
                                    "AvgPrice": "624.58",
                                    "MaxPrice": "728.79",
                                    "MinPrice": "541.93"
                                },
                                {
                                    "Year": "2014",
                                    "Trimester": "2",
                                    "District": "Eixample",
                                    "AvgPrice": "761.03",
                                    "MaxPrice": "948.96",
                                    "MinPrice": "663.23"
                                },
                                {
                                    "Year": "2014",
                                    "Trimester": "2",
                                    "District": "Gracia",
                                    "AvgPrice": "648.26",
                                    "MaxPrice": "702.33",
                                    "MinPrice": "551.4"
                                },
                                {
                                    "Year": "2014",
                                    "Trimester": "2",
                                    "District": "Horta-Guinardo",
                                    "AvgPrice": "579.13",
                                    "MaxPrice": "772.41",
                                    "MinPrice": "476.94"
                                },
                                {
                                    "Year": "2014",
                                    "Trimester": "2",
                                    "District": "Les Corts",
                                    "AvgPrice": "991.02",
                                    "MaxPrice": "1459.12",
                                    "MinPrice": "748.64"
                                },
                                {
                                    "Year": "2014",
                                    "Trimester": "2",
                                    "District": "Nou Barris",
                                    "AvgPrice": "460.47",
                                    "MaxPrice": "613.14",
                                    "MinPrice": "295.39"
                                },
                                {
                                    "Year": "2014",
                                    "Trimester": "2",
                                    "District": "Sant Andreu",
                                    "AvgPrice": "493.89",
                                    "MaxPrice": "622.71",
                                    "MinPrice": "231.4"
                                },
                                {
                                    "Year": "2014",
                                    "Trimester": "2",
                                    "District": "Sant Marti",
                                    "AvgPrice": "669.78",
                                    "MaxPrice": "988.89",
                                    "MinPrice": "480.69"
                                },
                                {
                                    "Year": "2014",
                                    "Trimester": "2",
                                    "District": "Sants-Montjuic",
                                    "AvgPrice": "578.25",
                                    "MaxPrice": "624.88",
                                    "MinPrice": "454.44"
                                },
                                {
                                    "Year": "2014",
                                    "Trimester": "2",
                                    "District": "Sarria-Sant Gervasi",
                                    "AvgPrice": "1016.22",
                                    "MaxPrice": "1327.22",
                                    "MinPrice": "761.35"
                                },
                                {
                                    "Year": "2014",
                                    "Trimester": "3",
                                    "District": "Ciutat Vella",
                                    "AvgPrice": "661.29",
                                    "MaxPrice": "790.74",
                                    "MinPrice": "576.45"
                                },
                                {
                                    "Year": "2014",
                                    "Trimester": "3",
                                    "District": "Eixample",
                                    "AvgPrice": "780.41",
                                    "MaxPrice": "934.55",
                                    "MinPrice": "697.69"
                                },
                                {
                                    "Year": "2014",
                                    "Trimester": "3",
                                    "District": "Gracia",
                                    "AvgPrice": "653.38",
                                    "MaxPrice": "711.14",
                                    "MinPrice": "537.15"
                                },
                                {
                                    "Year": "2014",
                                    "Trimester": "3",
                                    "District": "Horta-Guinardo",
                                    "AvgPrice": "580.52",
                                    "MaxPrice": "715",
                                    "MinPrice": "469.77"
                                },
                                {
                                    "Year": "2014",
                                    "Trimester": "3",
                                    "District": "Les Corts",
                                    "AvgPrice": "1020.32",
                                    "MaxPrice": "1506.2",
                                    "MinPrice": "768.46"
                                },
                                {
                                    "Year": "2014",
                                    "Trimester": "3",
                                    "District": "Nou Barris",
                                    "AvgPrice": "457.55",
                                    "MaxPrice": "607.74",
                                    "MinPrice": "145.45"
                                },
                                {
                                    "Year": "2014",
                                    "Trimester": "3",
                                    "District": "Sant Andreu",
                                    "AvgPrice": "553.06",
                                    "MaxPrice": "635.11",
                                    "MinPrice": "419.12"
                                },
                                {
                                    "Year": "2014",
                                    "Trimester": "3",
                                    "District": "Sant Marti",
                                    "AvgPrice": "686.02",
                                    "MaxPrice": "1121.06",
                                    "MinPrice": "423.45"
                                },
                                {
                                    "Year": "2014",
                                    "Trimester": "3",
                                    "District": "Sants-Montjuic",
                                    "AvgPrice": "602.53",
                                    "MaxPrice": "630.89",
                                    "MinPrice": "542.81"
                                },
                                {
                                    "Year": "2014",
                                    "Trimester": "3",
                                    "District": "Sarria-Sant Gervasi",
                                    "AvgPrice": "1044.11",
                                    "MaxPrice": "1386.13",
                                    "MinPrice": "766.33"
                                },
                                {
                                    "Year": "2014",
                                    "Trimester": "4",
                                    "District": "Ciutat Vella",
                                    "AvgPrice": "659.93",
                                    "MaxPrice": "761.68",
                                    "MinPrice": "593.73"
                                },
                                {
                                    "Year": "2014",
                                    "Trimester": "4",
                                    "District": "Eixample",
                                    "AvgPrice": "786.92",
                                    "MaxPrice": "975.96",
                                    "MinPrice": "687.26"
                                },
                                {
                                    "Year": "2014",
                                    "Trimester": "4",
                                    "District": "Gracia",
                                    "AvgPrice": "652.61",
                                    "MaxPrice": "691.94",
                                    "MinPrice": "552.75"
                                },
                                {
                                    "Year": "2014",
                                    "Trimester": "4",
                                    "District": "Horta-Guinardo",
                                    "AvgPrice": "592.42",
                                    "MaxPrice": "784.44",
                                    "MinPrice": "506.26"
                                },
                                {
                                    "Year": "2014",
                                    "Trimester": "4",
                                    "District": "Les Corts",
                                    "AvgPrice": "1123.57",
                                    "MaxPrice": "1762.06",
                                    "MinPrice": "802.23"
                                },
                                {
                                    "Year": "2014",
                                    "Trimester": "4",
                                    "District": "Nou Barris",
                                    "AvgPrice": "507.06",
                                    "MaxPrice": "620.83",
                                    "MinPrice": "360.94"
                                },
                                {
                                    "Year": "2014",
                                    "Trimester": "4",
                                    "District": "Sant Andreu",
                                    "AvgPrice": "557.39",
                                    "MaxPrice": "647.84",
                                    "MinPrice": "400.76"
                                },
                                {
                                    "Year": "2014",
                                    "Trimester": "4",
                                    "District": "Sant Marti",
                                    "AvgPrice": "701.51",
                                    "MaxPrice": "1130.29",
                                    "MinPrice": "504.19"
                                },
                                {
                                    "Year": "2014",
                                    "Trimester": "4",
                                    "District": "Sants-Montjuic",
                                    "AvgPrice": "618.79",
                                    "MaxPrice": "679.58",
                                    "MinPrice": "574.45"
                                },
                                {
                                    "Year": "2014",
                                    "Trimester": "4",
                                    "District": "Sarria-Sant Gervasi",
                                    "AvgPrice": "1144.72",
                                    "MaxPrice": "1754.44",
                                    "MinPrice": "761.7"
                                },
                                {
                                    "Year": "2015",
                                    "Trimester": "1",
                                    "District": "Ciutat Vella",
                                    "AvgPrice": "659.12",
                                    "MaxPrice": "756.68",
                                    "MinPrice": "581.34"
                                },
                                {
                                    "Year": "2015",
                                    "Trimester": "1",
                                    "District": "Eixample",
                                    "AvgPrice": "792.76",
                                    "MaxPrice": "957.55",
                                    "MinPrice": "679.03"
                                },
                                {
                                    "Year": "2015",
                                    "Trimester": "1",
                                    "District": "Gracia",
                                    "AvgPrice": "687.15",
                                    "MaxPrice": "777.25",
                                    "MinPrice": "576.44"
                                },
                                {
                                    "Year": "2015",
                                    "Trimester": "1",
                                    "District": "Horta-Guinardo",
                                    "AvgPrice": "597.76",
                                    "MaxPrice": "740",
                                    "MinPrice": "485.74"
                                },
                                {
                                    "Year": "2015",
                                    "Trimester": "1",
                                    "District": "Les Corts",
                                    "AvgPrice": "933.73",
                                    "MaxPrice": "1250.83",
                                    "MinPrice": "727.99"
                                },
                                {
                                    "Year": "2015",
                                    "Trimester": "1",
                                    "District": "Nou Barris",
                                    "AvgPrice": "496.87",
                                    "MaxPrice": "626.23",
                                    "MinPrice": "401.17"
                                },
                                {
                                    "Year": "2015",
                                    "Trimester": "1",
                                    "District": "Sant Andreu",
                                    "AvgPrice": "522.59",
                                    "MaxPrice": "665.89",
                                    "MinPrice": "303.8"
                                },
                                {
                                    "Year": "2015",
                                    "Trimester": "1",
                                    "District": "Sant Marti",
                                    "AvgPrice": "704.35",
                                    "MaxPrice": "1093.14",
                                    "MinPrice": "512.89"
                                },
                                {
                                    "Year": "2015",
                                    "Trimester": "1",
                                    "District": "Sants-Montjuic",
                                    "AvgPrice": "608.27",
                                    "MaxPrice": "728.25",
                                    "MinPrice": "492.49"
                                },
                                {
                                    "Year": "2015",
                                    "Trimester": "1",
                                    "District": "Sarria-Sant Gervasi",
                                    "AvgPrice": "1064.93",
                                    "MaxPrice": "1335.71",
                                    "MinPrice": "758.44"
                                },
                                {
                                    "Year": "2015",
                                    "Trimester": "2",
                                    "District": "Ciutat Vella",
                                    "AvgPrice": "669.06",
                                    "MaxPrice": "771.13",
                                    "MinPrice": "598.16"
                                },
                                {
                                    "Year": "2015",
                                    "Trimester": "2",
                                    "District": "Eixample",
                                    "AvgPrice": "813.74",
                                    "MaxPrice": "988.89",
                                    "MinPrice": "704.44"
                                },
                                {
                                    "Year": "2015",
                                    "Trimester": "2",
                                    "District": "Gracia",
                                    "AvgPrice": "665.88",
                                    "MaxPrice": "726.61",
                                    "MinPrice": "539.58"
                                },
                                {
                                    "Year": "2015",
                                    "Trimester": "2",
                                    "District": "Horta-Guinardo",
                                    "AvgPrice": "601.78",
                                    "MaxPrice": "749.23",
                                    "MinPrice": "504.61"
                                },
                                {
                                    "Year": "2015",
                                    "Trimester": "2",
                                    "District": "Les Corts",
                                    "AvgPrice": "1069.41",
                                    "MaxPrice": "1711.45",
                                    "MinPrice": "679.54"
                                },
                                {
                                    "Year": "2015",
                                    "Trimester": "2",
                                    "District": "Nou Barris",
                                    "AvgPrice": "492.31",
                                    "MaxPrice": "583.05",
                                    "MinPrice": "399.19"
                                },
                                {
                                    "Year": "2015",
                                    "Trimester": "2",
                                    "District": "Sant Andreu",
                                    "AvgPrice": "545.32",
                                    "MaxPrice": "650.76",
                                    "MinPrice": "362.94"
                                },
                                {
                                    "Year": "2015",
                                    "Trimester": "2",
                                    "District": "Sant Marti",
                                    "AvgPrice": "729.54",
                                    "MaxPrice": "1116.3",
                                    "MinPrice": "505.97"
                                },
                                {
                                    "Year": "2015",
                                    "Trimester": "2",
                                    "District": "Sants-Montjuic",
                                    "AvgPrice": "580.87",
                                    "MaxPrice": "687.33",
                                    "MinPrice": "381.07"
                                },
                                {
                                    "Year": "2015",
                                    "Trimester": "2",
                                    "District": "Sarria-Sant Gervasi",
                                    "AvgPrice": "1034.22",
                                    "MaxPrice": "1337.79",
                                    "MinPrice": "790.21"
                                },
                                {
                                    "Year": "2015",
                                    "Trimester": "3",
                                    "District": "Ciutat Vella",
                                    "AvgPrice": "696.5",
                                    "MaxPrice": "773",
                                    "MinPrice": "630"
                                },
                                {
                                    "Year": "2015",
                                    "Trimester": "3",
                                    "District": "Eixample",
                                    "AvgPrice": "845.83",
                                    "MaxPrice": "1052",
                                    "MinPrice": "739"
                                },
                                {
                                    "Year": "2015",
                                    "Trimester": "3",
                                    "District": "Gracia",
                                    "AvgPrice": "705.2",
                                    "MaxPrice": "752",
                                    "MinPrice": "576"
                                },
                                {
                                    "Year": "2015",
                                    "Trimester": "3",
                                    "District": "Horta-Guinardo",
                                    "AvgPrice": "568.55",
                                    "MaxPrice": "655",
                                    "MinPrice": "368"
                                },
                                {
                                    "Year": "2015",
                                    "Trimester": "3",
                                    "District": "Les Corts",
                                    "AvgPrice": "1236",
                                    "MaxPrice": "2034",
                                    "MinPrice": "814"
                                },
                                {
                                    "Year": "2015",
                                    "Trimester": "3",
                                    "District": "Nou Barris",
                                    "AvgPrice": "511.8",
                                    "MaxPrice": "581",
                                    "MinPrice": "381"
                                },
                                {
                                    "Year": "2015",
                                    "Trimester": "3",
                                    "District": "Sant Andreu",
                                    "AvgPrice": "543.14",
                                    "MaxPrice": "685",
                                    "MinPrice": "187"
                                },
                                {
                                    "Year": "2015",
                                    "Trimester": "3",
                                    "District": "Sant Marti",
                                    "AvgPrice": "757.6",
                                    "MaxPrice": "1173",
                                    "MinPrice": "516"
                                },
                                {
                                    "Year": "2015",
                                    "Trimester": "3",
                                    "District": "Sants-Montjuic",
                                    "AvgPrice": "653.86",
                                    "MaxPrice": "735",
                                    "MinPrice": "565"
                                },
                                {
                                    "Year": "2015",
                                    "Trimester": "3",
                                    "District": "Sarria-Sant Gervasi",
                                    "AvgPrice": "1152",
                                    "MaxPrice": "1462",
                                    "MinPrice": "840"
                                },
                                {
                                    "Year": "2015",
                                    "Trimester": "4",
                                    "District": "Ciutat Vella",
                                    "AvgPrice": "707.21",
                                    "MaxPrice": "831.13",
                                    "MinPrice": "601.38"
                                },
                                {
                                    "Year": "2015",
                                    "Trimester": "4",
                                    "District": "Eixample",
                                    "AvgPrice": "843",
                                    "MaxPrice": "1035.07",
                                    "MinPrice": "726.93"
                                },
                                {
                                    "Year": "2015",
                                    "Trimester": "4",
                                    "District": "Gracia",
                                    "AvgPrice": "704.95",
                                    "MaxPrice": "751.72",
                                    "MinPrice": "542.71"
                                },
                                {
                                    "Year": "2015",
                                    "Trimester": "4",
                                    "District": "Horta-Guinardo",
                                    "AvgPrice": "614.6",
                                    "MaxPrice": "775.29",
                                    "MinPrice": "527.53"
                                },
                                {
                                    "Year": "2015",
                                    "Trimester": "4",
                                    "District": "Les Corts",
                                    "AvgPrice": "1178.11",
                                    "MaxPrice": "1860.3",
                                    "MinPrice": "764.77"
                                },
                                {
                                    "Year": "2015",
                                    "Trimester": "4",
                                    "District": "Nou Barris",
                                    "AvgPrice": "506.4",
                                    "MaxPrice": "615.06",
                                    "MinPrice": "366.67"
                                },
                                {
                                    "Year": "2015",
                                    "Trimester": "4",
                                    "District": "Sant Andreu",
                                    "AvgPrice": "601.3",
                                    "MaxPrice": "688.36",
                                    "MinPrice": "455.88"
                                },
                                {
                                    "Year": "2015",
                                    "Trimester": "4",
                                    "District": "Sant Marti",
                                    "AvgPrice": "751.63",
                                    "MaxPrice": "1211.01",
                                    "MinPrice": "492.1"
                                },
                                {
                                    "Year": "2015",
                                    "Trimester": "4",
                                    "District": "Sants-Montjuic",
                                    "AvgPrice": "607.15",
                                    "MaxPrice": "658.42",
                                    "MinPrice": "411.36"
                                },
                                {
                                    "Year": "2015",
                                    "Trimester": "4",
                                    "District": "Sarria-Sant Gervasi",
                                    "AvgPrice": "1082.26",
                                    "MaxPrice": "1385.99",
                                    "MinPrice": "808.38"
                                },
                                {
                                    "Year": "2016",
                                    "Trimester": "1",
                                    "District": "Ciutat Vella",
                                    "AvgPrice": "728.94",
                                    "MaxPrice": "893.42",
                                    "MinPrice": "624.42"
                                },
                                {
                                    "Year": "2016",
                                    "Trimester": "1",
                                    "District": "Eixample",
                                    "AvgPrice": "870.25",
                                    "MaxPrice": "1104.26",
                                    "MinPrice": "752.37"
                                },
                                {
                                    "Year": "2016",
                                    "Trimester": "1",
                                    "District": "Gracia",
                                    "AvgPrice": "716.63",
                                    "MaxPrice": "802.69",
                                    "MinPrice": "590.53"
                                },
                                {
                                    "Year": "2016",
                                    "Trimester": "1",
                                    "District": "Horta-Guinardo",
                                    "AvgPrice": "624.58",
                                    "MaxPrice": "749.81",
                                    "MinPrice": "513.53"
                                },
                                {
                                    "Year": "2016",
                                    "Trimester": "1",
                                    "District": "Les Corts",
                                    "AvgPrice": "1081.04",
                                    "MaxPrice": "1572.56",
                                    "MinPrice": "777.86"
                                },
                                {
                                    "Year": "2016",
                                    "Trimester": "1",
                                    "District": "Nou Barris",
                                    "AvgPrice": "499.44",
                                    "MaxPrice": "619.85",
                                    "MinPrice": "344.26"
                                },
                                {
                                    "Year": "2016",
                                    "Trimester": "1",
                                    "District": "Sant Andreu",
                                    "AvgPrice": "514.15",
                                    "MaxPrice": "665.34",
                                    "MinPrice": "142.34"
                                },
                                {
                                    "Year": "2016",
                                    "Trimester": "1",
                                    "District": "Sant Marti",
                                    "AvgPrice": "751.62",
                                    "MaxPrice": "1136",
                                    "MinPrice": "506.7"
                                },
                                {
                                    "Year": "2016",
                                    "Trimester": "1",
                                    "District": "Sants-Montjuic",
                                    "AvgPrice": "583.9",
                                    "MaxPrice": "664.66",
                                    "MinPrice": "360.88"
                                },
                                {
                                    "Year": "2016",
                                    "Trimester": "1",
                                    "District": "Sarria-Sant Gervasi",
                                    "AvgPrice": "1107.04",
                                    "MaxPrice": "1380.68",
                                    "MinPrice": "827.82"
                                },
                                {
                                    "Year": "2016",
                                    "Trimester": "2",
                                    "District": "Ciutat Vella",
                                    "AvgPrice": "725.37",
                                    "MaxPrice": "806.24",
                                    "MinPrice": "659.35"
                                },
                                {
                                    "Year": "2016",
                                    "Trimester": "2",
                                    "District": "Eixample",
                                    "AvgPrice": "877.55",
                                    "MaxPrice": "1120.4",
                                    "MinPrice": "739.86"
                                },
                                {
                                    "Year": "2016",
                                    "Trimester": "2",
                                    "District": "Gracia",
                                    "AvgPrice": "735.12",
                                    "MaxPrice": "780.36",
                                    "MinPrice": "592.76"
                                },
                                {
                                    "Year": "2016",
                                    "Trimester": "2",
                                    "District": "Horta-Guinardo",
                                    "AvgPrice": "632.81",
                                    "MaxPrice": "786.32",
                                    "MinPrice": "544.56"
                                },
                                {
                                    "Year": "2016",
                                    "Trimester": "2",
                                    "District": "Les Corts",
                                    "AvgPrice": "1131.39",
                                    "MaxPrice": "1660.43",
                                    "MinPrice": "821.2"
                                },
                                {
                                    "Year": "2016",
                                    "Trimester": "2",
                                    "District": "Nou Barris",
                                    "AvgPrice": "532.02",
                                    "MaxPrice": "621.43",
                                    "MinPrice": "427.97"
                                },
                                {
                                    "Year": "2016",
                                    "Trimester": "2",
                                    "District": "Sant Andreu",
                                    "AvgPrice": "615.84",
                                    "MaxPrice": "704.45",
                                    "MinPrice": "483.22"
                                },
                                {
                                    "Year": "2016",
                                    "Trimester": "2",
                                    "District": "Sant Marti",
                                    "AvgPrice": "773.28",
                                    "MaxPrice": "1151.48",
                                    "MinPrice": "521.08"
                                },
                                {
                                    "Year": "2016",
                                    "Trimester": "2",
                                    "District": "Sants-Montjuic",
                                    "AvgPrice": "668.72",
                                    "MaxPrice": "751.69",
                                    "MinPrice": "548.51"
                                },
                                {
                                    "Year": "2016",
                                    "Trimester": "2",
                                    "District": "Sarria-Sant Gervasi",
                                    "AvgPrice": "1175.58",
                                    "MaxPrice": "1560.7",
                                    "MinPrice": "891.63"
                                },
                                {
                                    "Year": "2016",
                                    "Trimester": "3",
                                    "District": "Ciutat Vella",
                                    "AvgPrice": "761",
                                    "MaxPrice": "851.63",
                                    "MinPrice": "666.17"
                                },
                                {
                                    "Year": "2016",
                                    "Trimester": "3",
                                    "District": "Eixample",
                                    "AvgPrice": "928.63",
                                    "MaxPrice": "1143.98",
                                    "MinPrice": "799.38"
                                },
                                {
                                    "Year": "2016",
                                    "Trimester": "3",
                                    "District": "Gracia",
                                    "AvgPrice": "790.99",
                                    "MaxPrice": "855.89",
                                    "MinPrice": "635.15"
                                },
                                {
                                    "Year": "2016",
                                    "Trimester": "3",
                                    "District": "Horta-Guinardo",
                                    "AvgPrice": "652.83",
                                    "MaxPrice": "796.92",
                                    "MinPrice": "557.55"
                                },
                                {
                                    "Year": "2016",
                                    "Trimester": "3",
                                    "District": "Les Corts",
                                    "AvgPrice": "1177.28",
                                    "MaxPrice": "1689.6",
                                    "MinPrice": "892.28"
                                },
                                {
                                    "Year": "2016",
                                    "Trimester": "3",
                                    "District": "Nou Barris",
                                    "AvgPrice": "546.19",
                                    "MaxPrice": "648.75",
                                    "MinPrice": "373.14"
                                },
                                {
                                    "Year": "2016",
                                    "Trimester": "3",
                                    "District": "Sant Andreu",
                                    "AvgPrice": "572.52",
                                    "MaxPrice": "712.32",
                                    "MinPrice": "256.45"
                                },
                                {
                                    "Year": "2016",
                                    "Trimester": "3",
                                    "District": "Sant Marti",
                                    "AvgPrice": "824.95",
                                    "MaxPrice": "1268.48",
                                    "MinPrice": "556.45"
                                },
                                {
                                    "Year": "2016",
                                    "Trimester": "3",
                                    "District": "Sants-Montjuic",
                                    "AvgPrice": "695.31",
                                    "MaxPrice": "764.38",
                                    "MinPrice": "577.47"
                                },
                                {
                                    "Year": "2016",
                                    "Trimester": "3",
                                    "District": "Sarria-Sant Gervasi",
                                    "AvgPrice": "1222.17",
                                    "MaxPrice": "1619.04",
                                    "MinPrice": "876.77"
                                },
                                {
                                    "Year": "2016",
                                    "Trimester": "4",
                                    "District": "Ciutat Vella",
                                    "AvgPrice": "792.79",
                                    "MaxPrice": "913.96",
                                    "MinPrice": "686.31"
                                },
                                {
                                    "Year": "2016",
                                    "Trimester": "4",
                                    "District": "Eixample",
                                    "AvgPrice": "936.37",
                                    "MaxPrice": "1174.38",
                                    "MinPrice": "806.4"
                                },
                                {
                                    "Year": "2016",
                                    "Trimester": "4",
                                    "District": "Gracia",
                                    "AvgPrice": "782.05",
                                    "MaxPrice": "829.23",
                                    "MinPrice": "653.69"
                                },
                                {
                                    "Year": "2016",
                                    "Trimester": "4",
                                    "District": "Horta-Guinardo",
                                    "AvgPrice": "688.22",
                                    "MaxPrice": "778.67",
                                    "MinPrice": "597.13"
                                },
                                {
                                    "Year": "2016",
                                    "Trimester": "4",
                                    "District": "Les Corts",
                                    "AvgPrice": "1180.7",
                                    "MaxPrice": "1692.2",
                                    "MinPrice": "866.43"
                                },
                                {
                                    "Year": "2016",
                                    "Trimester": "4",
                                    "District": "Nou Barris",
                                    "AvgPrice": "542.04",
                                    "MaxPrice": "684.2",
                                    "MinPrice": "301.82"
                                },
                                {
                                    "Year": "2016",
                                    "Trimester": "4",
                                    "District": "Sant Andreu",
                                    "AvgPrice": "656.43",
                                    "MaxPrice": "768.66",
                                    "MinPrice": "552.81"
                                },
                                {
                                    "Year": "2016",
                                    "Trimester": "4",
                                    "District": "Sant Marti",
                                    "AvgPrice": "851.48",
                                    "MaxPrice": "1285.61",
                                    "MinPrice": "571.6"
                                },
                                {
                                    "Year": "2016",
                                    "Trimester": "4",
                                    "District": "Sants-Montjuic",
                                    "AvgPrice": "712.96",
                                    "MaxPrice": "786.35",
                                    "MinPrice": "613.16"
                                },
                                {
                                    "Year": "2016",
                                    "Trimester": "4",
                                    "District": "Sarria-Sant Gervasi",
                                    "AvgPrice": "1238.67",
                                    "MaxPrice": "1490.72",
                                    "MinPrice": "904.17"
                                },
                                {
                                    "Year": "2017",
                                    "Trimester": "1",
                                    "District": "Ciutat Vella",
                                    "AvgPrice": "814.58",
                                    "MaxPrice": "905.26",
                                    "MinPrice": "722.78"
                                },
                                {
                                    "Year": "2017",
                                    "Trimester": "1",
                                    "District": "Eixample",
                                    "AvgPrice": "942.79",
                                    "MaxPrice": "1151.09",
                                    "MinPrice": "847.04"
                                },
                                {
                                    "Year": "2017",
                                    "Trimester": "1",
                                    "District": "Gracia",
                                    "AvgPrice": "830.35",
                                    "MaxPrice": "946.59",
                                    "MinPrice": "687.42"
                                },
                                {
                                    "Year": "2017",
                                    "Trimester": "1",
                                    "District": "Horta-Guinardo",
                                    "AvgPrice": "700.25",
                                    "MaxPrice": "816.05",
                                    "MinPrice": "597.09"
                                },
                                {
                                    "Year": "2017",
                                    "Trimester": "1",
                                    "District": "Les Corts",
                                    "AvgPrice": "1229.78",
                                    "MaxPrice": "1856.57",
                                    "MinPrice": "896.45"
                                },
                                {
                                    "Year": "2017",
                                    "Trimester": "1",
                                    "District": "Nou Barris",
                                    "AvgPrice": "581.4",
                                    "MaxPrice": "689.62",
                                    "MinPrice": "418.07"
                                },
                                {
                                    "Year": "2017",
                                    "Trimester": "1",
                                    "District": "Sant Andreu",
                                    "AvgPrice": "636.22",
                                    "MaxPrice": "716.78",
                                    "MinPrice": "497.84"
                                },
                                {
                                    "Year": "2017",
                                    "Trimester": "1",
                                    "District": "Sant Marti",
                                    "AvgPrice": "851.62",
                                    "MaxPrice": "1148.2",
                                    "MinPrice": "588.9"
                                },
                                {
                                    "Year": "2017",
                                    "Trimester": "1",
                                    "District": "Sants-Montjuic",
                                    "AvgPrice": "723.65",
                                    "MaxPrice": "806.34",
                                    "MinPrice": "680.17"
                                },
                                {
                                    "Year": "2017",
                                    "Trimester": "1",
                                    "District": "Sarria-Sant Gervasi",
                                    "AvgPrice": "1236.7",
                                    "MaxPrice": "1516.52",
                                    "MinPrice": "913.45"
                                },
                                {
                                    "Year": "2017",
                                    "Trimester": "2",
                                    "District": "Ciutat Vella",
                                    "AvgPrice": "837.71",
                                    "MaxPrice": "968.16",
                                    "MinPrice": "714.29"
                                },
                                {
                                    "Year": "2017",
                                    "Trimester": "2",
                                    "District": "Eixample",
                                    "AvgPrice": "975.53",
                                    "MaxPrice": "1218.18",
                                    "MinPrice": "867.97"
                                },
                                {
                                    "Year": "2017",
                                    "Trimester": "2",
                                    "District": "Gracia",
                                    "AvgPrice": "839.96",
                                    "MaxPrice": "917.84",
                                    "MinPrice": "701.29"
                                },
                                {
                                    "Year": "2017",
                                    "Trimester": "2",
                                    "District": "Horta-Guinardo",
                                    "AvgPrice": "706.52",
                                    "MaxPrice": "819.11",
                                    "MinPrice": "597.58"
                                },
                                {
                                    "Year": "2017",
                                    "Trimester": "2",
                                    "District": "Les Corts",
                                    "AvgPrice": "1185.17",
                                    "MaxPrice": "1666.63",
                                    "MinPrice": "882.05"
                                },
                                {
                                    "Year": "2017",
                                    "Trimester": "2",
                                    "District": "Nou Barris",
                                    "AvgPrice": "552.83",
                                    "MaxPrice": "699.81",
                                    "MinPrice": "302.52"
                                },
                                {
                                    "Year": "2017",
                                    "Trimester": "2",
                                    "District": "Sant Andreu",
                                    "AvgPrice": "662.59",
                                    "MaxPrice": "783.88",
                                    "MinPrice": "434.91"
                                },
                                {
                                    "Year": "2017",
                                    "Trimester": "2",
                                    "District": "Sant Marti",
                                    "AvgPrice": "859.5",
                                    "MaxPrice": "1345.63",
                                    "MinPrice": "606.61"
                                },
                                {
                                    "Year": "2017",
                                    "Trimester": "2",
                                    "District": "Sants-Montjuic",
                                    "AvgPrice": "747.57",
                                    "MaxPrice": "785.02",
                                    "MinPrice": "634.28"
                                },
                                {
                                    "Year": "2017",
                                    "Trimester": "2",
                                    "District": "Sarria-Sant Gervasi",
                                    "AvgPrice": "1266.36",
                                    "MaxPrice": "1646.76",
                                    "MinPrice": "902.42"
                                },
                                {
                                    "Year": "2017",
                                    "Trimester": "3",
                                    "District": "Ciutat Vella",
                                    "AvgPrice": "869.67",
                                    "MaxPrice": "1028.49",
                                    "MinPrice": "758.18"
                                },
                                {
                                    "Year": "2017",
                                    "Trimester": "3",
                                    "District": "Eixample",
                                    "AvgPrice": "998.37",
                                    "MaxPrice": "1179.11",
                                    "MinPrice": "906.78"
                                },
                                {
                                    "Year": "2017",
                                    "Trimester": "3",
                                    "District": "Gracia",
                                    "AvgPrice": "852.83",
                                    "MaxPrice": "912.51",
                                    "MinPrice": "799.44"
                                },
                                {
                                    "Year": "2017",
                                    "Trimester": "3",
                                    "District": "Horta-Guinardo",
                                    "AvgPrice": "739.14",
                                    "MaxPrice": "922.75",
                                    "MinPrice": "610.13"
                                },
                                {
                                    "Year": "2017",
                                    "Trimester": "3",
                                    "District": "Les Corts",
                                    "AvgPrice": "1288.9",
                                    "MaxPrice": "1882.42",
                                    "MinPrice": "970.71"
                                },
                                {
                                    "Year": "2017",
                                    "Trimester": "3",
                                    "District": "Nou Barris",
                                    "AvgPrice": "596.91",
                                    "MaxPrice": "750.43",
                                    "MinPrice": "423.09"
                                },
                                {
                                    "Year": "2017",
                                    "Trimester": "3",
                                    "District": "Sant Andreu",
                                    "AvgPrice": "695.78",
                                    "MaxPrice": "790.19",
                                    "MinPrice": "532.33"
                                },
                                {
                                    "Year": "2017",
                                    "Trimester": "3",
                                    "District": "Sant Marti",
                                    "AvgPrice": "872.58",
                                    "MaxPrice": "1189.26",
                                    "MinPrice": "625.13"
                                },
                                {
                                    "Year": "2017",
                                    "Trimester": "3",
                                    "District": "Sants-Montjuic",
                                    "AvgPrice": "791.11",
                                    "MaxPrice": "861.69",
                                    "MinPrice": "711.93"
                                },
                                {
                                    "Year": "2017",
                                    "Trimester": "3",
                                    "District": "Sarria-Sant Gervasi",
                                    "AvgPrice": "1357.68",
                                    "MaxPrice": "1757",
                                    "MinPrice": "962.41"
                                },
                                {
                                    "Year": "2017",
                                    "Trimester": "4",
                                    "District": "Ciutat Vella",
                                    "AvgPrice": "862.67",
                                    "MaxPrice": "993.16",
                                    "MinPrice": "766.03"
                                },
                                {
                                    "Year": "2017",
                                    "Trimester": "4",
                                    "District": "Eixample",
                                    "AvgPrice": "992.83",
                                    "MaxPrice": "1225.08",
                                    "MinPrice": "877.02"
                                },
                                {
                                    "Year": "2017",
                                    "Trimester": "4",
                                    "District": "Gracia",
                                    "AvgPrice": "814.15",
                                    "MaxPrice": "879.85",
                                    "MinPrice": "711.57"
                                },
                                {
                                    "Year": "2017",
                                    "Trimester": "4",
                                    "District": "Horta-Guinardo",
                                    "AvgPrice": "727.57",
                                    "MaxPrice": "865.42",
                                    "MinPrice": "609.11"
                                },
                                {
                                    "Year": "2017",
                                    "Trimester": "4",
                                    "District": "Les Corts",
                                    "AvgPrice": "1239.02",
                                    "MaxPrice": "1737.92",
                                    "MinPrice": "935.38"
                                },
                                {
                                    "Year": "2017",
                                    "Trimester": "4",
                                    "District": "Nou Barris",
                                    "AvgPrice": "603.72",
                                    "MaxPrice": "723.34",
                                    "MinPrice": "425.51"
                                },
                                {
                                    "Year": "2017",
                                    "Trimester": "4",
                                    "District": "Sant Andreu",
                                    "AvgPrice": "690.84",
                                    "MaxPrice": "805.1",
                                    "MinPrice": "535.92"
                                },
                                {
                                    "Year": "2017",
                                    "Trimester": "4",
                                    "District": "Sant Marti",
                                    "AvgPrice": "894.57",
                                    "MaxPrice": "1349.82",
                                    "MinPrice": "621.32"
                                },
                                {
                                    "Year": "2017",
                                    "Trimester": "4",
                                    "District": "Sants-Montjuic",
                                    "AvgPrice": "779.06",
                                    "MaxPrice": "827.36",
                                    "MinPrice": "728.07"
                                },
                                {
                                    "Year": "2017",
                                    "Trimester": "4",
                                    "District": "Sarria-Sant Gervasi",
                                    "AvgPrice": "1264.91",
                                    "MaxPrice": "1588.53",
                                    "MinPrice": "938.2"
                                },
                                {
                                    "Year": "2018",
                                    "Trimester": "1",
                                    "District": "Ciutat Vella",
                                    "AvgPrice": "896.36",
                                    "MaxPrice": "998.4",
                                    "MinPrice": "792.74"
                                },
                                {
                                    "Year": "2018",
                                    "Trimester": "1",
                                    "District": "Eixample",
                                    "AvgPrice": "983.8",
                                    "MaxPrice": "1191.43",
                                    "MinPrice": "883.75"
                                },
                                {
                                    "Year": "2018",
                                    "Trimester": "1",
                                    "District": "Gracia",
                                    "AvgPrice": "845.46",
                                    "MaxPrice": "899.65",
                                    "MinPrice": "741.23"
                                },
                                {
                                    "Year": "2018",
                                    "Trimester": "1",
                                    "District": "Horta-Guinardo",
                                    "AvgPrice": "742.88",
                                    "MaxPrice": "874.2",
                                    "MinPrice": "634.75"
                                },
                                {
                                    "Year": "2018",
                                    "Trimester": "1",
                                    "District": "Les Corts",
                                    "AvgPrice": "1250.34",
                                    "MaxPrice": "1799.91",
                                    "MinPrice": "948.77"
                                },
                                {
                                    "Year": "2018",
                                    "Trimester": "1",
                                    "District": "Nou Barris",
                                    "AvgPrice": "642.54",
                                    "MaxPrice": "720.9",
                                    "MinPrice": "507.16"
                                },
                                {
                                    "Year": "2018",
                                    "Trimester": "1",
                                    "District": "Sant Andreu",
                                    "AvgPrice": "711.87",
                                    "MaxPrice": "790.2",
                                    "MinPrice": "589.02"
                                },
                                {
                                    "Year": "2018",
                                    "Trimester": "1",
                                    "District": "Sant Marti",
                                    "AvgPrice": "893.31",
                                    "MaxPrice": "1272.26",
                                    "MinPrice": "682.32"
                                },
                                {
                                    "Year": "2018",
                                    "Trimester": "1",
                                    "District": "Sants-Montjuic",
                                    "AvgPrice": "783.59",
                                    "MaxPrice": "842.32",
                                    "MinPrice": "751.65"
                                },
                                {
                                    "Year": "2018",
                                    "Trimester": "1",
                                    "District": "Sarria-Sant Gervasi",
                                    "AvgPrice": "1210.52",
                                    "MaxPrice": "1613.41",
                                    "MinPrice": "895.7"
                                },
                                {
                                    "Year": "2018",
                                    "Trimester": "2",
                                    "District": "Ciutat Vella",
                                    "AvgPrice": "940",
                                    "MaxPrice": "1024.29",
                                    "MinPrice": "820.88"
                                },
                                {
                                    "Year": "2018",
                                    "Trimester": "2",
                                    "District": "Eixample",
                                    "AvgPrice": "1010.09",
                                    "MaxPrice": "1263.08",
                                    "MinPrice": "893.43"
                                },
                                {
                                    "Year": "2018",
                                    "Trimester": "2",
                                    "District": "Gracia",
                                    "AvgPrice": "867.51",
                                    "MaxPrice": "939.03",
                                    "MinPrice": "716.25"
                                },
                                {
                                    "Year": "2018",
                                    "Trimester": "2",
                                    "District": "Horta-Guinardo",
                                    "AvgPrice": "735.99",
                                    "MaxPrice": "864.72",
                                    "MinPrice": "637.17"
                                },
                                {
                                    "Year": "2018",
                                    "Trimester": "2",
                                    "District": "Les Corts",
                                    "AvgPrice": "1187.1",
                                    "MaxPrice": "1563.31",
                                    "MinPrice": "959.26"
                                },
                                {
                                    "Year": "2018",
                                    "Trimester": "2",
                                    "District": "Nou Barris",
                                    "AvgPrice": "623.42",
                                    "MaxPrice": "726.89",
                                    "MinPrice": "434.52"
                                },
                                {
                                    "Year": "2018",
                                    "Trimester": "2",
                                    "District": "Sant Andreu",
                                    "AvgPrice": "730.97",
                                    "MaxPrice": "798.39",
                                    "MinPrice": "598.29"
                                },
                                {
                                    "Year": "2018",
                                    "Trimester": "2",
                                    "District": "Sant Marti",
                                    "AvgPrice": "952.25",
                                    "MaxPrice": "1371.14",
                                    "MinPrice": "649.17"
                                },
                                {
                                    "Year": "2018",
                                    "Trimester": "2",
                                    "District": "Sants-Montjuic",
                                    "AvgPrice": "781.13",
                                    "MaxPrice": "834.68",
                                    "MinPrice": "719.33"
                                },
                                {
                                    "Year": "2018",
                                    "Trimester": "2",
                                    "District": "Sarria-Sant Gervasi",
                                    "AvgPrice": "1208.23",
                                    "MaxPrice": "1467.07",
                                    "MinPrice": "860.13"
                                },
                                {
                                    "Year": "2018",
                                    "Trimester": "3",
                                    "District": "Ciutat Vella",
                                    "AvgPrice": "930.51",
                                    "MaxPrice": "1012.49",
                                    "MinPrice": "849.32"
                                },
                                {
                                    "Year": "2018",
                                    "Trimester": "3",
                                    "District": "Eixample",
                                    "AvgPrice": "1038.47",
                                    "MaxPrice": "1216.7",
                                    "MinPrice": "934.89"
                                },
                                {
                                    "Year": "2018",
                                    "Trimester": "3",
                                    "District": "Gracia",
                                    "AvgPrice": "876.14",
                                    "MaxPrice": "924.81",
                                    "MinPrice": "756.36"
                                },
                                {
                                    "Year": "2018",
                                    "Trimester": "3",
                                    "District": "Horta-Guinardo",
                                    "AvgPrice": "764.27",
                                    "MaxPrice": "876.58",
                                    "MinPrice": "654.77"
                                },
                                {
                                    "Year": "2018",
                                    "Trimester": "3",
                                    "District": "Les Corts",
                                    "AvgPrice": "1313.6",
                                    "MaxPrice": "1849.52",
                                    "MinPrice": "1013.28"
                                },
                                {
                                    "Year": "2018",
                                    "Trimester": "3",
                                    "District": "Nou Barris",
                                    "AvgPrice": "660.98",
                                    "MaxPrice": "742.82",
                                    "MinPrice": "514.34"
                                },
                                {
                                    "Year": "2018",
                                    "Trimester": "3",
                                    "District": "Sant Andreu",
                                    "AvgPrice": "743.88",
                                    "MaxPrice": "823.74",
                                    "MinPrice": "597.93"
                                },
                                {
                                    "Year": "2018",
                                    "Trimester": "3",
                                    "District": "Sant Marti",
                                    "AvgPrice": "884.76",
                                    "MaxPrice": "1284.3",
                                    "MinPrice": "699.06"
                                },
                                {
                                    "Year": "2018",
                                    "Trimester": "3",
                                    "District": "Sants-Montjuic",
                                    "AvgPrice": "819.55",
                                    "MaxPrice": "871.41",
                                    "MinPrice": "755.18"
                                },
                                {
                                    "Year": "2018",
                                    "Trimester": "3",
                                    "District": "Sarria-Sant Gervasi",
                                    "AvgPrice": "1335.03",
                                    "MaxPrice": "1746.01",
                                    "MinPrice": "1021.27"
                                },
                                {
                                    "Year": "2018",
                                    "Trimester": "4",
                                    "District": "Ciutat Vella",
                                    "AvgPrice": "949.56",
                                    "MaxPrice": "1057.26",
                                    "MinPrice": "827.27"
                                },
                                {
                                    "Year": "2018",
                                    "Trimester": "4",
                                    "District": "Eixample",
                                    "AvgPrice": "1065.95",
                                    "MaxPrice": "1340.38",
                                    "MinPrice": "930.02"
                                },
                                {
                                    "Year": "2018",
                                    "Trimester": "4",
                                    "District": "Gracia",
                                    "AvgPrice": "904.67",
                                    "MaxPrice": "971.51",
                                    "MinPrice": "748.9"
                                },
                                {
                                    "Year": "2018",
                                    "Trimester": "4",
                                    "District": "Horta-Guinardo",
                                    "AvgPrice": "760.53",
                                    "MaxPrice": "876.65",
                                    "MinPrice": "653.21"
                                },
                                {
                                    "Year": "2018",
                                    "Trimester": "4",
                                    "District": "Les Corts",
                                    "AvgPrice": "1202.27",
                                    "MaxPrice": "1615.31",
                                    "MinPrice": "960.03"
                                },
                                {
                                    "Year": "2018",
                                    "Trimester": "4",
                                    "District": "Nou Barris",
                                    "AvgPrice": "671.41",
                                    "MaxPrice": "782.95",
                                    "MinPrice": "514.52"
                                },
                                {
                                    "Year": "2018",
                                    "Trimester": "4",
                                    "District": "Sant Andreu",
                                    "AvgPrice": "737.08",
                                    "MaxPrice": "840.01",
                                    "MinPrice": "564.56"
                                },
                                {
                                    "Year": "2018",
                                    "Trimester": "4",
                                    "District": "Sant Marti",
                                    "AvgPrice": "948.72",
                                    "MaxPrice": "1307.79",
                                    "MinPrice": "711.67"
                                },
                                {
                                    "Year": "2018",
                                    "Trimester": "4",
                                    "District": "Sants-Montjuic",
                                    "AvgPrice": "814.96",
                                    "MaxPrice": "834.64",
                                    "MinPrice": "778.52"
                                },
                                {
                                    "Year": "2018",
                                    "Trimester": "4",
                                    "District": "Sarria-Sant Gervasi",
                                    "AvgPrice": "1263.11",
                                    "MaxPrice": "1567.91",
                                    "MinPrice": "898.33"
                                },
                                {
                                    "Year": "2019",
                                    "Trimester": "1",
                                    "District": "Ciutat Vella",
                                    "AvgPrice": "941.25",
                                    "MaxPrice": "1060.9",
                                    "MinPrice": "822.6"
                                },
                                {
                                    "Year": "2019",
                                    "Trimester": "1",
                                    "District": "Eixample",
                                    "AvgPrice": "1046.72",
                                    "MaxPrice": "1269.1",
                                    "MinPrice": "936.3"
                                },
                                {
                                    "Year": "2019",
                                    "Trimester": "1",
                                    "District": "Gracia",
                                    "AvgPrice": "882.44",
                                    "MaxPrice": "937.3",
                                    "MinPrice": "750.6"
                                },
                                {
                                    "Year": "2019",
                                    "Trimester": "1",
                                    "District": "Horta-Guinardo",
                                    "AvgPrice": "779.84",
                                    "MaxPrice": "870.2",
                                    "MinPrice": "670.6"
                                },
                                {
                                    "Year": "2019",
                                    "Trimester": "1",
                                    "District": "Les Corts",
                                    "AvgPrice": "1247",
                                    "MaxPrice": "1732.5",
                                    "MinPrice": "938.5"
                                },
                                {
                                    "Year": "2019",
                                    "Trimester": "1",
                                    "District": "Nou Barris",
                                    "AvgPrice": "684.39",
                                    "MaxPrice": "791.9",
                                    "MinPrice": "575.4"
                                },
                                {
                                    "Year": "2019",
                                    "Trimester": "1",
                                    "District": "Sant Andreu",
                                    "AvgPrice": "756.25",
                                    "MaxPrice": "855.3",
                                    "MinPrice": "601.2"
                                },
                                {
                                    "Year": "2019",
                                    "Trimester": "1",
                                    "District": "Sant Marti",
                                    "AvgPrice": "937.14",
                                    "MaxPrice": "1304",
                                    "MinPrice": "694.8"
                                },
                                {
                                    "Year": "2019",
                                    "Trimester": "1",
                                    "District": "Sants-Montjuic",
                                    "AvgPrice": "819.84",
                                    "MaxPrice": "873",
                                    "MinPrice": "714.9"
                                },
                                {
                                    "Year": "2019",
                                    "Trimester": "1",
                                    "District": "Sarria-Sant Gervasi",
                                    "AvgPrice": "1281.42",
                                    "MaxPrice": "1645.9",
                                    "MinPrice": "1057.1"
                                },
                                {
                                    "Year": "2019",
                                    "Trimester": "2",
                                    "District": "Ciutat Vella",
                                    "AvgPrice": "978.3",
                                    "MaxPrice": "1112.1",
                                    "MinPrice": "867"
                                },
                                {
                                    "Year": "2019",
                                    "Trimester": "2",
                                    "District": "Eixample",
                                    "AvgPrice": "1061.23",
                                    "MaxPrice": "1277.9",
                                    "MinPrice": "942.9"
                                },
                                {
                                    "Year": "2019",
                                    "Trimester": "2",
                                    "District": "Gracia",
                                    "AvgPrice": "935.48",
                                    "MaxPrice": "1028.9",
                                    "MinPrice": "819.8"
                                },
                                {
                                    "Year": "2019",
                                    "Trimester": "2",
                                    "District": "Horta-Guinardo",
                                    "AvgPrice": "795.78",
                                    "MaxPrice": "1044",
                                    "MinPrice": "666.9"
                                },
                                {
                                    "Year": "2019",
                                    "Trimester": "2",
                                    "District": "Les Corts",
                                    "AvgPrice": "1268.27",
                                    "MaxPrice": "1746.7",
                                    "MinPrice": "973"
                                },
                                {
                                    "Year": "2019",
                                    "Trimester": "2",
                                    "District": "Nou Barris",
                                    "AvgPrice": "688.32",
                                    "MaxPrice": "775.3",
                                    "MinPrice": "559.8"
                                },
                                {
                                    "Year": "2019",
                                    "Trimester": "2",
                                    "District": "Sant Andreu",
                                    "AvgPrice": "750.32",
                                    "MaxPrice": "836.9",
                                    "MinPrice": "614.7"
                                },
                                {
                                    "Year": "2019",
                                    "Trimester": "2",
                                    "District": "Sant Marti",
                                    "AvgPrice": "1001.65",
                                    "MaxPrice": "1444.6",
                                    "MinPrice": "798.1"
                                },
                                {
                                    "Year": "2019",
                                    "Trimester": "2",
                                    "District": "Sants-Montjuic",
                                    "AvgPrice": "834.33",
                                    "MaxPrice": "867.5",
                                    "MinPrice": "753.1"
                                },
                                {
                                    "Year": "2019",
                                    "Trimester": "2",
                                    "District": "Sarria-Sant Gervasi",
                                    "AvgPrice": "1307.38",
                                    "MaxPrice": "1602.5",
                                    "MinPrice": "1115.7"
                                },
                                {
                                    "Year": "2019",
                                    "Trimester": "3",
                                    "District": "Ciutat Vella",
                                    "AvgPrice": "960.83",
                                    "MaxPrice": "1082.4",
                                    "MinPrice": "869.1"
                                },
                                {
                                    "Year": "2019",
                                    "Trimester": "3",
                                    "District": "Eixample",
                                    "AvgPrice": "1103.8",
                                    "MaxPrice": "1348.9",
                                    "MinPrice": "979.6"
                                },
                                {
                                    "Year": "2019",
                                    "Trimester": "3",
                                    "District": "Gracia",
                                    "AvgPrice": "936.34",
                                    "MaxPrice": "996.3",
                                    "MinPrice": "813.8"
                                },
                                {
                                    "Year": "2019",
                                    "Trimester": "3",
                                    "District": "Horta-Guinardo",
                                    "AvgPrice": "800.86",
                                    "MaxPrice": "902.2",
                                    "MinPrice": "703.3"
                                },
                                {
                                    "Year": "2019",
                                    "Trimester": "3",
                                    "District": "Les Corts",
                                    "AvgPrice": "1368.1",
                                    "MaxPrice": "1950.1",
                                    "MinPrice": "1040.3"
                                },
                                {
                                    "Year": "2019",
                                    "Trimester": "3",
                                    "District": "Nou Barris",
                                    "AvgPrice": "682.21",
                                    "MaxPrice": "792.2",
                                    "MinPrice": "532.6"
                                },
                                {
                                    "Year": "2019",
                                    "Trimester": "3",
                                    "District": "Sant Andreu",
                                    "AvgPrice": "754.47",
                                    "MaxPrice": "864.6",
                                    "MinPrice": "569.9"
                                },
                                {
                                    "Year": "2019",
                                    "Trimester": "3",
                                    "District": "Sant Marti",
                                    "AvgPrice": "982.89",
                                    "MaxPrice": "1409.4",
                                    "MinPrice": "728.3"
                                },
                                {
                                    "Year": "2019",
                                    "Trimester": "3",
                                    "District": "Sants-Montjuic",
                                    "AvgPrice": "853.93",
                                    "MaxPrice": "888.3",
                                    "MinPrice": "790.1"
                                },
                                {
                                    "Year": "2019",
                                    "Trimester": "3",
                                    "District": "Sarria-Sant Gervasi",
                                    "AvgPrice": "1369.87",
                                    "MaxPrice": "1614.8",
                                    "MinPrice": "1070.2"
                                },
                                {
                                    "Year": "2019",
                                    "Trimester": "4",
                                    "District": "Ciutat Vella",
                                    "AvgPrice": "961",
                                    "MaxPrice": "1139.7",
                                    "MinPrice": "844.9"
                                },
                                {
                                    "Year": "2019",
                                    "Trimester": "4",
                                    "District": "Eixample",
                                    "AvgPrice": "1111.18",
                                    "MaxPrice": "1333",
                                    "MinPrice": "980"
                                },
                                {
                                    "Year": "2019",
                                    "Trimester": "4",
                                    "District": "Gracia",
                                    "AvgPrice": "950.44",
                                    "MaxPrice": "1017.6",
                                    "MinPrice": "817.5"
                                },
                                {
                                    "Year": "2019",
                                    "Trimester": "4",
                                    "District": "Horta-Guinardo",
                                    "AvgPrice": "809.08",
                                    "MaxPrice": "954.5",
                                    "MinPrice": "700.2"
                                },
                                {
                                    "Year": "2019",
                                    "Trimester": "4",
                                    "District": "Les Corts",
                                    "AvgPrice": "1405.9",
                                    "MaxPrice": "2023.4",
                                    "MinPrice": "1078.1"
                                },
                                {
                                    "Year": "2019",
                                    "Trimester": "4",
                                    "District": "Nou Barris",
                                    "AvgPrice": "688.08",
                                    "MaxPrice": "801.8",
                                    "MinPrice": "561.4"
                                },
                                {
                                    "Year": "2019",
                                    "Trimester": "4",
                                    "District": "Sant Andreu",
                                    "AvgPrice": "776.27",
                                    "MaxPrice": "856.8",
                                    "MinPrice": "622.3"
                                },
                                {
                                    "Year": "2019",
                                    "Trimester": "4",
                                    "District": "Sant Marti",
                                    "AvgPrice": "1003.41",
                                    "MaxPrice": "1498.6",
                                    "MinPrice": "693.8"
                                },
                                {
                                    "Year": "2019",
                                    "Trimester": "4",
                                    "District": "Sants-Montjuic",
                                    "AvgPrice": "791.18",
                                    "MaxPrice": "884.8",
                                    "MinPrice": "350.5"
                                },
                                {
                                    "Year": "2019",
                                    "Trimester": "4",
                                    "District": "Sarria-Sant Gervasi",
                                    "AvgPrice": "1380.12",
                                    "MaxPrice": "1745",
                                    "MinPrice": "1099.8"
                                },
                                {
                                    "Year": "2020",
                                    "Trimester": "1",
                                    "District": "Ciutat Vella",
                                    "AvgPrice": "976.05",
                                    "MaxPrice": "1110.2",
                                    "MinPrice": "864.5"
                                },
                                {
                                    "Year": "2020",
                                    "Trimester": "1",
                                    "District": "Eixample",
                                    "AvgPrice": "1094.53",
                                    "MaxPrice": "1349.6",
                                    "MinPrice": "952.6"
                                },
                                {
                                    "Year": "2020",
                                    "Trimester": "1",
                                    "District": "Gracia",
                                    "AvgPrice": "930.48",
                                    "MaxPrice": "967.9",
                                    "MinPrice": "814.8"
                                },
                                {
                                    "Year": "2020",
                                    "Trimester": "1",
                                    "District": "Horta-Guinardo",
                                    "AvgPrice": "822.18",
                                    "MaxPrice": "963.4",
                                    "MinPrice": "698.9"
                                },
                                {
                                    "Year": "2020",
                                    "Trimester": "1",
                                    "District": "Les Corts",
                                    "AvgPrice": "1228.8",
                                    "MaxPrice": "1626.9",
                                    "MinPrice": "989.6"
                                },
                                {
                                    "Year": "2020",
                                    "Trimester": "1",
                                    "District": "Nou Barris",
                                    "AvgPrice": "661",
                                    "MaxPrice": "789.9",
                                    "MinPrice": "452"
                                },
                                {
                                    "Year": "2020",
                                    "Trimester": "1",
                                    "District": "Sant Andreu",
                                    "AvgPrice": "739.93",
                                    "MaxPrice": "873",
                                    "MinPrice": "584.1"
                                },
                                {
                                    "Year": "2020",
                                    "Trimester": "1",
                                    "District": "Sant Marti",
                                    "AvgPrice": "979.8",
                                    "MaxPrice": "1427.5",
                                    "MinPrice": "749.7"
                                },
                                {
                                    "Year": "2020",
                                    "Trimester": "1",
                                    "District": "Sants-Montjuic",
                                    "AvgPrice": "859.17",
                                    "MaxPrice": "891.4",
                                    "MinPrice": "810.1"
                                },
                                {
                                    "Year": "2020",
                                    "Trimester": "1",
                                    "District": "Sarria-Sant Gervasi",
                                    "AvgPrice": "1337.62",
                                    "MaxPrice": "1662.4",
                                    "MinPrice": "1053.9"
                                },
                                {
                                    "Year": "2020",
                                    "Trimester": "2",
                                    "District": "Ciutat Vella",
                                    "AvgPrice": "917.65",
                                    "MaxPrice": "1041",
                                    "MinPrice": "853.3"
                                },
                                {
                                    "Year": "2020",
                                    "Trimester": "2",
                                    "District": "Eixample",
                                    "AvgPrice": "1061.23",
                                    "MaxPrice": "1249.4",
                                    "MinPrice": "943.5"
                                },
                                {
                                    "Year": "2020",
                                    "Trimester": "2",
                                    "District": "Gracia",
                                    "AvgPrice": "977.78",
                                    "MaxPrice": "1060.5",
                                    "MinPrice": "910.3"
                                },
                                {
                                    "Year": "2020",
                                    "Trimester": "2",
                                    "District": "Horta-Guinardo",
                                    "AvgPrice": "808.85",
                                    "MaxPrice": "997.3",
                                    "MinPrice": "682.8"
                                },
                                {
                                    "Year": "2020",
                                    "Trimester": "2",
                                    "District": "Les Corts",
                                    "AvgPrice": "1288.47",
                                    "MaxPrice": "1822.7",
                                    "MinPrice": "946.1"
                                },
                                {
                                    "Year": "2020",
                                    "Trimester": "2",
                                    "District": "Nou Barris",
                                    "AvgPrice": "668.3",
                                    "MaxPrice": "803.2",
                                    "MinPrice": "508.4"
                                },
                                {
                                    "Year": "2020",
                                    "Trimester": "2",
                                    "District": "Sant Andreu",
                                    "AvgPrice": "798.67",
                                    "MaxPrice": "898.5",
                                    "MinPrice": "701"
                                },
                                {
                                    "Year": "2020",
                                    "Trimester": "2",
                                    "District": "Sant Marti",
                                    "AvgPrice": "938.98",
                                    "MaxPrice": "1446.1",
                                    "MinPrice": "696.9"
                                },
                                {
                                    "Year": "2020",
                                    "Trimester": "2",
                                    "District": "Sants-Montjuic",
                                    "AvgPrice": "836.39",
                                    "MaxPrice": "893.6",
                                    "MinPrice": "687.8"
                                },
                                {
                                    "Year": "2020",
                                    "Trimester": "2",
                                    "District": "Sarria-Sant Gervasi",
                                    "AvgPrice": "1306.53",
                                    "MaxPrice": "1679.1",
                                    "MinPrice": "1073.3"
                                },
                                {
                                    "Year": "2020",
                                    "Trimester": "3",
                                    "District": "Ciutat Vella",
                                    "AvgPrice": "902.6",
                                    "MaxPrice": "982.5",
                                    "MinPrice": "823.1"
                                },
                                {
                                    "Year": "2020",
                                    "Trimester": "3",
                                    "District": "Eixample",
                                    "AvgPrice": "1077.22",
                                    "MaxPrice": "1273.9",
                                    "MinPrice": "959.3"
                                },
                                {
                                    "Year": "2020",
                                    "Trimester": "3",
                                    "District": "Gracia",
                                    "AvgPrice": "920.68",
                                    "MaxPrice": "1001.2",
                                    "MinPrice": "777.6"
                                },
                                {
                                    "Year": "2020",
                                    "Trimester": "3",
                                    "District": "Horta-Guinardo",
                                    "AvgPrice": "813.19",
                                    "MaxPrice": "926.5",
                                    "MinPrice": "706"
                                },
                                {
                                    "Year": "2020",
                                    "Trimester": "3",
                                    "District": "Les Corts",
                                    "AvgPrice": "1334.27",
                                    "MaxPrice": "1932.3",
                                    "MinPrice": "1012.4"
                                },
                                {
                                    "Year": "2020",
                                    "Trimester": "3",
                                    "District": "Nou Barris",
                                    "AvgPrice": "710.63",
                                    "MaxPrice": "842",
                                    "MinPrice": "572.4"
                                },
                                {
                                    "Year": "2020",
                                    "Trimester": "3",
                                    "District": "Sant Andreu",
                                    "AvgPrice": "786.67",
                                    "MaxPrice": "858.4",
                                    "MinPrice": "668.5"
                                },
                                {
                                    "Year": "2020",
                                    "Trimester": "3",
                                    "District": "Sant Marti",
                                    "AvgPrice": "956.07",
                                    "MaxPrice": "1346.7",
                                    "MinPrice": "782.4"
                                },
                                {
                                    "Year": "2020",
                                    "Trimester": "3",
                                    "District": "Sants-Montjuic",
                                    "AvgPrice": "856.86",
                                    "MaxPrice": "892.3",
                                    "MinPrice": "820.2"
                                },
                                {
                                    "Year": "2020",
                                    "Trimester": "3",
                                    "District": "Sarria-Sant Gervasi",
                                    "AvgPrice": "1338.3",
                                    "MaxPrice": "1699.4",
                                    "MinPrice": "1073.4"
                                },
                                {
                                    "Year": "2020",
                                    "Trimester": "4",
                                    "District": "Ciutat Vella",
                                    "AvgPrice": "888.7",
                                    "MaxPrice": "1003.9",
                                    "MinPrice": "787"
                                },
                                {
                                    "Year": "2020",
                                    "Trimester": "4",
                                    "District": "Eixample",
                                    "AvgPrice": "1023.08",
                                    "MaxPrice": "1208.8",
                                    "MinPrice": "902.1"
                                },
                                {
                                    "Year": "2020",
                                    "Trimester": "4",
                                    "District": "Gracia",
                                    "AvgPrice": "926.14",
                                    "MaxPrice": "1026.8",
                                    "MinPrice": "790.4"
                                },
                                {
                                    "Year": "2020",
                                    "Trimester": "4",
                                    "District": "Horta-Guinardo",
                                    "AvgPrice": "756.98",
                                    "MaxPrice": "856.4",
                                    "MinPrice": "651.4"
                                },
                                {
                                    "Year": "2020",
                                    "Trimester": "4",
                                    "District": "Les Corts",
                                    "AvgPrice": "1202.77",
                                    "MaxPrice": "1577.1",
                                    "MinPrice": "993.3"
                                },
                                {
                                    "Year": "2020",
                                    "Trimester": "4",
                                    "District": "Nou Barris",
                                    "AvgPrice": "674.68",
                                    "MaxPrice": "756.1",
                                    "MinPrice": "514.1"
                                },
                                {
                                    "Year": "2020",
                                    "Trimester": "4",
                                    "District": "Sant Andreu",
                                    "AvgPrice": "747.53",
                                    "MaxPrice": "846.3",
                                    "MinPrice": "610"
                                },
                                {
                                    "Year": "2020",
                                    "Trimester": "4",
                                    "District": "Sant Marti",
                                    "AvgPrice": "950.52",
                                    "MaxPrice": "1392.6",
                                    "MinPrice": "731.6"
                                },
                                {
                                    "Year": "2020",
                                    "Trimester": "4",
                                    "District": "Sants-Montjuic",
                                    "AvgPrice": "820.14",
                                    "MaxPrice": "850.3",
                                    "MinPrice": "762.7"
                                },
                                {
                                    "Year": "2020",
                                    "Trimester": "4",
                                    "District": "Sarria-Sant Gervasi",
                                    "AvgPrice": "1347.38",
                                    "MaxPrice": "1729.5",
                                    "MinPrice": "1033.3"
                                },
                                {
                                    "Year": "2021",
                                    "Trimester": "1",
                                    "District": "Ciutat Vella",
                                    "AvgPrice": "844.28",
                                    "MaxPrice": "929.6",
                                    "MinPrice": "759.2"
                                },
                                {
                                    "Year": "2021",
                                    "Trimester": "1",
                                    "District": "Eixample",
                                    "AvgPrice": "980.78",
                                    "MaxPrice": "1176.7",
                                    "MinPrice": "887.1"
                                },
                                {
                                    "Year": "2021",
                                    "Trimester": "1",
                                    "District": "Gracia",
                                    "AvgPrice": "867.88",
                                    "MaxPrice": "959",
                                    "MinPrice": "745.4"
                                },
                                {
                                    "Year": "2021",
                                    "Trimester": "1",
                                    "District": "Horta-Guinardo",
                                    "AvgPrice": "754.63",
                                    "MaxPrice": "827",
                                    "MinPrice": "668.8"
                                },
                                {
                                    "Year": "2021",
                                    "Trimester": "1",
                                    "District": "Les Corts",
                                    "AvgPrice": "1171.93",
                                    "MaxPrice": "1598.2",
                                    "MinPrice": "927.3"
                                },
                                {
                                    "Year": "2021",
                                    "Trimester": "1",
                                    "District": "Nou Barris",
                                    "AvgPrice": "665.72",
                                    "MaxPrice": "762.5",
                                    "MinPrice": "520.2"
                                },
                                {
                                    "Year": "2021",
                                    "Trimester": "1",
                                    "District": "Sant Andreu",
                                    "AvgPrice": "731.15",
                                    "MaxPrice": "824.2",
                                    "MinPrice": "625.1"
                                },
                                {
                                    "Year": "2021",
                                    "Trimester": "1",
                                    "District": "Sant Marti",
                                    "AvgPrice": "901.77",
                                    "MaxPrice": "1298.9",
                                    "MinPrice": "704.2"
                                },
                                {
                                    "Year": "2021",
                                    "Trimester": "1",
                                    "District": "Sants-Montjuic",
                                    "AvgPrice": "799.27",
                                    "MaxPrice": "829.1",
                                    "MinPrice": "778.4"
                                },
                                {
                                    "Year": "2021",
                                    "Trimester": "1",
                                    "District": "Sarria-Sant Gervasi",
                                    "AvgPrice": "1320.57",
                                    "MaxPrice": "1578",
                                    "MinPrice": "990.1"
                                },
                                {
                                    "Year": "2021",
                                    "Trimester": "2",
                                    "District": "Ciutat Vella",
                                    "AvgPrice": "846.3",
                                    "MaxPrice": "934.1",
                                    "MinPrice": "774.2"
                                },
                                {
                                    "Year": "2021",
                                    "Trimester": "2",
                                    "District": "Eixample",
                                    "AvgPrice": "990.5",
                                    "MaxPrice": "1196.3",
                                    "MinPrice": "887.4"
                                },
                                {
                                    "Year": "2021",
                                    "Trimester": "2",
                                    "District": "Gracia",
                                    "AvgPrice": "868.32",
                                    "MaxPrice": "924.5",
                                    "MinPrice": "796.8"
                                },
                                {
                                    "Year": "2021",
                                    "Trimester": "2",
                                    "District": "Horta-Guinardo",
                                    "AvgPrice": "761.35",
                                    "MaxPrice": "884.2",
                                    "MinPrice": "653.5"
                                },
                                {
                                    "Year": "2021",
                                    "Trimester": "2",
                                    "District": "Les Corts",
                                    "AvgPrice": "1194.63",
                                    "MaxPrice": "1680.3",
                                    "MinPrice": "904.8"
                                },
                                {
                                    "Year": "2021",
                                    "Trimester": "2",
                                    "District": "Nou Barris",
                                    "AvgPrice": "652.2",
                                    "MaxPrice": "754.4",
                                    "MinPrice": "488.1"
                                },
                                {
                                    "Year": "2021",
                                    "Trimester": "2",
                                    "District": "Sant Andreu",
                                    "AvgPrice": "699.27",
                                    "MaxPrice": "827.2",
                                    "MinPrice": "447.5"
                                },
                                {
                                    "Year": "2021",
                                    "Trimester": "2",
                                    "District": "Sant Marti",
                                    "AvgPrice": "871.59",
                                    "MaxPrice": "1248.6",
                                    "MinPrice": "700.8"
                                },
                                {
                                    "Year": "2021",
                                    "Trimester": "2",
                                    "District": "Sants-Montjuic",
                                    "AvgPrice": "791.23",
                                    "MaxPrice": "815.4",
                                    "MinPrice": "772.4"
                                },
                                {
                                    "Year": "2021",
                                    "Trimester": "2",
                                    "District": "Sarria-Sant Gervasi",
                                    "AvgPrice": "1231.88",
                                    "MaxPrice": "1429",
                                    "MinPrice": "1024.4"
                                },
                                {
                                    "Year": "2021",
                                    "Trimester": "3",
                                    "District": "Ciutat Vella",
                                    "AvgPrice": "863.5",
                                    "MaxPrice": "968.4",
                                    "MinPrice": "770.5"
                                },
                                {
                                    "Year": "2021",
                                    "Trimester": "3",
                                    "District": "Eixample",
                                    "AvgPrice": "1004.47",
                                    "MaxPrice": "1168.4",
                                    "MinPrice": "912.4"
                                },
                                {
                                    "Year": "2021",
                                    "Trimester": "3",
                                    "District": "Gracia",
                                    "AvgPrice": "888.48",
                                    "MaxPrice": "961",
                                    "MinPrice": "755.5"
                                },
                                {
                                    "Year": "2021",
                                    "Trimester": "3",
                                    "District": "Horta-Guinardo",
                                    "AvgPrice": "776.1",
                                    "MaxPrice": "878.1",
                                    "MinPrice": "679.3"
                                },
                                {
                                    "Year": "2021",
                                    "Trimester": "3",
                                    "District": "Les Corts",
                                    "AvgPrice": "1272.13",
                                    "MaxPrice": "1816.5",
                                    "MinPrice": "982.9"
                                },
                                {
                                    "Year": "2021",
                                    "Trimester": "3",
                                    "District": "Nou Barris",
                                    "AvgPrice": "668.81",
                                    "MaxPrice": "769.9",
                                    "MinPrice": "547.7"
                                },
                                {
                                    "Year": "2021",
                                    "Trimester": "3",
                                    "District": "Sant Andreu",
                                    "AvgPrice": "725.33",
                                    "MaxPrice": "805.3",
                                    "MinPrice": "585"
                                },
                                {
                                    "Year": "2021",
                                    "Trimester": "3",
                                    "District": "Sant Marti",
                                    "AvgPrice": "941.06",
                                    "MaxPrice": "1343.1",
                                    "MinPrice": "736.1"
                                },
                                {
                                    "Year": "2021",
                                    "Trimester": "3",
                                    "District": "Sants-Montjuic",
                                    "AvgPrice": "803.41",
                                    "MaxPrice": "858.7",
                                    "MinPrice": "698.5"
                                },
                                {
                                    "Year": "2021",
                                    "Trimester": "3",
                                    "District": "Sarria-Sant Gervasi",
                                    "AvgPrice": "1239.67",
                                    "MaxPrice": "1566.5",
                                    "MinPrice": "1004.7"
                                },
                                {
                                    "Year": "2021",
                                    "Trimester": "4",
                                    "District": "Ciutat Vella",
                                    "AvgPrice": "881.63",
                                    "MaxPrice": "953",
                                    "MinPrice": "772.8"
                                },
                                {
                                    "Year": "2021",
                                    "Trimester": "4",
                                    "District": "Eixample",
                                    "AvgPrice": "1026.43",
                                    "MaxPrice": "1220.8",
                                    "MinPrice": "924.4"
                                },
                                {
                                    "Year": "2021",
                                    "Trimester": "4",
                                    "District": "Gracia",
                                    "AvgPrice": "884.38",
                                    "MaxPrice": "926.5",
                                    "MinPrice": "754.5"
                                },
                                {
                                    "Year": "2021",
                                    "Trimester": "4",
                                    "District": "Horta-Guinardo",
                                    "AvgPrice": "767.95",
                                    "MaxPrice": "859.1",
                                    "MinPrice": "675.7"
                                },
                                {
                                    "Year": "2021",
                                    "Trimester": "4",
                                    "District": "Les Corts",
                                    "AvgPrice": "1217.57",
                                    "MaxPrice": "1679.3",
                                    "MinPrice": "920.6"
                                },
                                {
                                    "Year": "2021",
                                    "Trimester": "4",
                                    "District": "Nou Barris",
                                    "AvgPrice": "670.44",
                                    "MaxPrice": "803.7",
                                    "MinPrice": "546.8"
                                },
                                {
                                    "Year": "2021",
                                    "Trimester": "4",
                                    "District": "Sant Andreu",
                                    "AvgPrice": "731.04",
                                    "MaxPrice": "825.4",
                                    "MinPrice": "616.7"
                                },
                                {
                                    "Year": "2021",
                                    "Trimester": "4",
                                    "District": "Sant Marti",
                                    "AvgPrice": "951.38",
                                    "MaxPrice": "1364.7",
                                    "MinPrice": "700.5"
                                },
                                {
                                    "Year": "2021",
                                    "Trimester": "4",
                                    "District": "Sants-Montjuic",
                                    "AvgPrice": "801.81",
                                    "MaxPrice": "872.5",
                                    "MinPrice": "691.9"
                                },
                                {
                                    "Year": "2021",
                                    "Trimester": "4",
                                    "District": "Sarria-Sant Gervasi",
                                    "AvgPrice": "1292.73",
                                    "MaxPrice": "1597.4",
                                    "MinPrice": "998.3"
                                },
                                {
                                    "Year": "2022",
                                    "Trimester": "1",
                                    "District": "Ciutat Vella",
                                    "AvgPrice": "1030.3",
                                    "MaxPrice": "1181.6",
                                    "MinPrice": "917"
                                },
                                {
                                    "Year": "2022",
                                    "Trimester": "1",
                                    "District": "Eixample",
                                    "AvgPrice": "1058.65",
                                    "MaxPrice": "1294.8",
                                    "MinPrice": "957.9"
                                },
                                {
                                    "Year": "2022",
                                    "Trimester": "1",
                                    "District": "Gracia",
                                    "AvgPrice": "915.18",
                                    "MaxPrice": "986",
                                    "MinPrice": "809.9"
                                },
                                {
                                    "Year": "2022",
                                    "Trimester": "1",
                                    "District": "Horta-Guinardo",
                                    "AvgPrice": "762.56",
                                    "MaxPrice": "888.9",
                                    "MinPrice": "671.3"
                                },
                                {
                                    "Year": "2022",
                                    "Trimester": "1",
                                    "District": "Les Corts",
                                    "AvgPrice": "1221.13",
                                    "MaxPrice": "1649.8",
                                    "MinPrice": "995"
                                },
                                {
                                    "Year": "2022",
                                    "Trimester": "1",
                                    "District": "Nou Barris",
                                    "AvgPrice": "653.78",
                                    "MaxPrice": "767",
                                    "MinPrice": "517.7"
                                },
                                {
                                    "Year": "2022",
                                    "Trimester": "1",
                                    "District": "Sant Andreu",
                                    "AvgPrice": "752.48",
                                    "MaxPrice": "847.2",
                                    "MinPrice": "616.9"
                                },
                                {
                                    "Year": "2022",
                                    "Trimester": "1",
                                    "District": "Sant Marti",
                                    "AvgPrice": "929.59",
                                    "MaxPrice": "1305",
                                    "MinPrice": "733.9"
                                },
                                {
                                    "Year": "2022",
                                    "Trimester": "1",
                                    "District": "Sants-Montjuic",
                                    "AvgPrice": "837.3",
                                    "MaxPrice": "971.8",
                                    "MinPrice": "728.7"
                                },
                                {
                                    "Year": "2022",
                                    "Trimester": "1",
                                    "District": "Sarria-Sant Gervasi",
                                    "AvgPrice": "1281.17",
                                    "MaxPrice": "1630.8",
                                    "MinPrice": "1054.9"
                                },
                                {
                                    "Year": "2022",
                                    "Trimester": "2",
                                    "District": "Ciutat Vella",
                                    "AvgPrice": "971.6",
                                    "MaxPrice": "1062.5",
                                    "MinPrice": "872"
                                },
                                {
                                    "Year": "2022",
                                    "Trimester": "2",
                                    "District": "Eixample",
                                    "AvgPrice": "1102.08",
                                    "MaxPrice": "1328.6",
                                    "MinPrice": "985.9"
                                },
                                {
                                    "Year": "2022",
                                    "Trimester": "2",
                                    "District": "Gracia",
                                    "AvgPrice": "939.84",
                                    "MaxPrice": "1010.3",
                                    "MinPrice": "759.2"
                                },
                                {
                                    "Year": "2022",
                                    "Trimester": "2",
                                    "District": "Horta-Guinardo",
                                    "AvgPrice": "800.92",
                                    "MaxPrice": "903.9",
                                    "MinPrice": "720.3"
                                },
                                {
                                    "Year": "2022",
                                    "Trimester": "2",
                                    "District": "Les Corts",
                                    "AvgPrice": "1335.13",
                                    "MaxPrice": "1944.5",
                                    "MinPrice": "993.1"
                                },
                                {
                                    "Year": "2022",
                                    "Trimester": "2",
                                    "District": "Nou Barris",
                                    "AvgPrice": "698.13",
                                    "MaxPrice": "855.5",
                                    "MinPrice": "574.9"
                                },
                                {
                                    "Year": "2022",
                                    "Trimester": "2",
                                    "District": "Sant Andreu",
                                    "AvgPrice": "767.83",
                                    "MaxPrice": "878.4",
                                    "MinPrice": "620"
                                },
                                {
                                    "Year": "2022",
                                    "Trimester": "2",
                                    "District": "Sant Marti",
                                    "AvgPrice": "1011.13",
                                    "MaxPrice": "1442.6",
                                    "MinPrice": "757"
                                },
                                {
                                    "Year": "2022",
                                    "Trimester": "2",
                                    "District": "Sants-Montjuic",
                                    "AvgPrice": "927.93",
                                    "MaxPrice": "1407.9",
                                    "MinPrice": "638.8"
                                },
                                {
                                    "Year": "2022",
                                    "Trimester": "2",
                                    "District": "Sarria-Sant Gervasi",
                                    "AvgPrice": "1328.9",
                                    "MaxPrice": "1767",
                                    "MinPrice": "894.9"
                                }
                            ]
                        },
                        "text/html": "<table><tr><th>Year</th><th>Trimester</th><th>District</th><th>AvgPrice</th><th>MaxPrice</th><th>MinPrice</th></tr><tr><td>2014</td><td>1</td><td>Ciutat Vella</td><td>629.12</td><td>712.79</td><td>540.71</td></tr><tr><td>2014</td><td>1</td><td>Eixample</td><td>761.38</td><td>921.4</td><td>673.37</td></tr><tr><td>2014</td><td>1</td><td>Gracia</td><td>649.77</td><td>679.8</td><td>583.93</td></tr><tr><td>2014</td><td>1</td><td>Horta-Guinardo</td><td>572.4</td><td>737.73</td><td>478.7</td></tr><tr><td>2014</td><td>1</td><td>Les Corts</td><td>902.46</td><td>1230</td><td>700.16</td></tr><tr><td>2014</td><td>1</td><td>Nou Barris</td><td>478.36</td><td>613.58</td><td>241.99</td></tr><tr><td>2014</td><td>1</td><td>Sant Andreu</td><td>555.59</td><td>626.26</td><td>461.1</td></tr><tr><td>2014</td><td>1</td><td>Sant Marti</td><td>671.16</td><td>926.43</td><td>516.9</td></tr><tr><td>2014</td><td>1</td><td>Sants-Montjuic</td><td>589.72</td><td>631.5</td><td>553.55</td></tr><tr><td>2014</td><td>1</td><td>Sarria-Sant Gervasi</td><td>971.25</td><td>1215.85</td><td>750.84</td></tr><tr><td>2014</td><td>2</td><td>Ciutat Vella</td><td>624.58</td><td>728.79</td><td>541.93</td></tr><tr><td>2014</td><td>2</td><td>Eixample</td><td>761.03</td><td>948.96</td><td>663.23</td></tr><tr><td>2014</td><td>2</td><td>Gracia</td><td>648.26</td><td>702.33</td><td>551.4</td></tr><tr><td>2014</td><td>2</td><td>Horta-Guinardo</td><td>579.13</td><td>772.41</td><td>476.94</td></tr><tr><td>2014</td><td>2</td><td>Les Corts</td><td>991.02</td><td>1459.12</td><td>748.64</td></tr><tr><td>2014</td><td>2</td><td>Nou Barris</td><td>460.47</td><td>613.14</td><td>295.39</td></tr><tr><td>2014</td><td>2</td><td>Sant Andreu</td><td>493.89</td><td>622.71</td><td>231.4</td></tr><tr><td>2014</td><td>2</td><td>Sant Marti</td><td>669.78</td><td>988.89</td><td>480.69</td></tr><tr><td>2014</td><td>2</td><td>Sants-Montjuic</td><td>578.25</td><td>624.88</td><td>454.44</td></tr><tr><td>2014</td><td>2</td><td>Sarria-Sant Gervasi</td><td>1016.22</td><td>1327.22</td><td>761.35</td></tr><tr><td>2014</td><td>3</td><td>Ciutat Vella</td><td>661.29</td><td>790.74</td><td>576.45</td></tr><tr><td>2014</td><td>3</td><td>Eixample</td><td>780.41</td><td>934.55</td><td>697.69</td></tr><tr><td>2014</td><td>3</td><td>Gracia</td><td>653.38</td><td>711.14</td><td>537.15</td></tr><tr><td>2014</td><td>3</td><td>Horta-Guinardo</td><td>580.52</td><td>715</td><td>469.77</td></tr><tr><td>2014</td><td>3</td><td>Les Corts</td><td>1020.32</td><td>1506.2</td><td>768.46</td></tr><tr><td>2014</td><td>3</td><td>Nou Barris</td><td>457.55</td><td>607.74</td><td>145.45</td></tr><tr><td>2014</td><td>3</td><td>Sant Andreu</td><td>553.06</td><td>635.11</td><td>419.12</td></tr><tr><td>2014</td><td>3</td><td>Sant Marti</td><td>686.02</td><td>1121.06</td><td>423.45</td></tr><tr><td>2014</td><td>3</td><td>Sants-Montjuic</td><td>602.53</td><td>630.89</td><td>542.81</td></tr><tr><td>2014</td><td>3</td><td>Sarria-Sant Gervasi</td><td>1044.11</td><td>1386.13</td><td>766.33</td></tr><tr><td>2014</td><td>4</td><td>Ciutat Vella</td><td>659.93</td><td>761.68</td><td>593.73</td></tr><tr><td>2014</td><td>4</td><td>Eixample</td><td>786.92</td><td>975.96</td><td>687.26</td></tr><tr><td>2014</td><td>4</td><td>Gracia</td><td>652.61</td><td>691.94</td><td>552.75</td></tr><tr><td>2014</td><td>4</td><td>Horta-Guinardo</td><td>592.42</td><td>784.44</td><td>506.26</td></tr><tr><td>2014</td><td>4</td><td>Les Corts</td><td>1123.57</td><td>1762.06</td><td>802.23</td></tr><tr><td>2014</td><td>4</td><td>Nou Barris</td><td>507.06</td><td>620.83</td><td>360.94</td></tr><tr><td>2014</td><td>4</td><td>Sant Andreu</td><td>557.39</td><td>647.84</td><td>400.76</td></tr><tr><td>2014</td><td>4</td><td>Sant Marti</td><td>701.51</td><td>1130.29</td><td>504.19</td></tr><tr><td>2014</td><td>4</td><td>Sants-Montjuic</td><td>618.79</td><td>679.58</td><td>574.45</td></tr><tr><td>2014</td><td>4</td><td>Sarria-Sant Gervasi</td><td>1144.72</td><td>1754.44</td><td>761.7</td></tr><tr><td>2015</td><td>1</td><td>Ciutat Vella</td><td>659.12</td><td>756.68</td><td>581.34</td></tr><tr><td>2015</td><td>1</td><td>Eixample</td><td>792.76</td><td>957.55</td><td>679.03</td></tr><tr><td>2015</td><td>1</td><td>Gracia</td><td>687.15</td><td>777.25</td><td>576.44</td></tr><tr><td>2015</td><td>1</td><td>Horta-Guinardo</td><td>597.76</td><td>740</td><td>485.74</td></tr><tr><td>2015</td><td>1</td><td>Les Corts</td><td>933.73</td><td>1250.83</td><td>727.99</td></tr><tr><td>2015</td><td>1</td><td>Nou Barris</td><td>496.87</td><td>626.23</td><td>401.17</td></tr><tr><td>2015</td><td>1</td><td>Sant Andreu</td><td>522.59</td><td>665.89</td><td>303.8</td></tr><tr><td>2015</td><td>1</td><td>Sant Marti</td><td>704.35</td><td>1093.14</td><td>512.89</td></tr><tr><td>2015</td><td>1</td><td>Sants-Montjuic</td><td>608.27</td><td>728.25</td><td>492.49</td></tr><tr><td>2015</td><td>1</td><td>Sarria-Sant Gervasi</td><td>1064.93</td><td>1335.71</td><td>758.44</td></tr><tr><td>2015</td><td>2</td><td>Ciutat Vella</td><td>669.06</td><td>771.13</td><td>598.16</td></tr><tr><td>2015</td><td>2</td><td>Eixample</td><td>813.74</td><td>988.89</td><td>704.44</td></tr><tr><td>2015</td><td>2</td><td>Gracia</td><td>665.88</td><td>726.61</td><td>539.58</td></tr><tr><td>2015</td><td>2</td><td>Horta-Guinardo</td><td>601.78</td><td>749.23</td><td>504.61</td></tr><tr><td>2015</td><td>2</td><td>Les Corts</td><td>1069.41</td><td>1711.45</td><td>679.54</td></tr><tr><td>2015</td><td>2</td><td>Nou Barris</td><td>492.31</td><td>583.05</td><td>399.19</td></tr><tr><td>2015</td><td>2</td><td>Sant Andreu</td><td>545.32</td><td>650.76</td><td>362.94</td></tr><tr><td>2015</td><td>2</td><td>Sant Marti</td><td>729.54</td><td>1116.3</td><td>505.97</td></tr><tr><td>2015</td><td>2</td><td>Sants-Montjuic</td><td>580.87</td><td>687.33</td><td>381.07</td></tr><tr><td>2015</td><td>2</td><td>Sarria-Sant Gervasi</td><td>1034.22</td><td>1337.79</td><td>790.21</td></tr><tr><td>2015</td><td>3</td><td>Ciutat Vella</td><td>696.5</td><td>773</td><td>630</td></tr><tr><td>2015</td><td>3</td><td>Eixample</td><td>845.83</td><td>1052</td><td>739</td></tr><tr><td>2015</td><td>3</td><td>Gracia</td><td>705.2</td><td>752</td><td>576</td></tr><tr><td>2015</td><td>3</td><td>Horta-Guinardo</td><td>568.55</td><td>655</td><td>368</td></tr><tr><td>2015</td><td>3</td><td>Les Corts</td><td>1236</td><td>2034</td><td>814</td></tr><tr><td>2015</td><td>3</td><td>Nou Barris</td><td>511.8</td><td>581</td><td>381</td></tr><tr><td>2015</td><td>3</td><td>Sant Andreu</td><td>543.14</td><td>685</td><td>187</td></tr><tr><td>2015</td><td>3</td><td>Sant Marti</td><td>757.6</td><td>1173</td><td>516</td></tr><tr><td>2015</td><td>3</td><td>Sants-Montjuic</td><td>653.86</td><td>735</td><td>565</td></tr><tr><td>2015</td><td>3</td><td>Sarria-Sant Gervasi</td><td>1152</td><td>1462</td><td>840</td></tr><tr><td>2015</td><td>4</td><td>Ciutat Vella</td><td>707.21</td><td>831.13</td><td>601.38</td></tr><tr><td>2015</td><td>4</td><td>Eixample</td><td>843</td><td>1035.07</td><td>726.93</td></tr><tr><td>2015</td><td>4</td><td>Gracia</td><td>704.95</td><td>751.72</td><td>542.71</td></tr><tr><td>2015</td><td>4</td><td>Horta-Guinardo</td><td>614.6</td><td>775.29</td><td>527.53</td></tr><tr><td>2015</td><td>4</td><td>Les Corts</td><td>1178.11</td><td>1860.3</td><td>764.77</td></tr><tr><td>2015</td><td>4</td><td>Nou Barris</td><td>506.4</td><td>615.06</td><td>366.67</td></tr><tr><td>2015</td><td>4</td><td>Sant Andreu</td><td>601.3</td><td>688.36</td><td>455.88</td></tr><tr><td>2015</td><td>4</td><td>Sant Marti</td><td>751.63</td><td>1211.01</td><td>492.1</td></tr><tr><td>2015</td><td>4</td><td>Sants-Montjuic</td><td>607.15</td><td>658.42</td><td>411.36</td></tr><tr><td>2015</td><td>4</td><td>Sarria-Sant Gervasi</td><td>1082.26</td><td>1385.99</td><td>808.38</td></tr><tr><td>2016</td><td>1</td><td>Ciutat Vella</td><td>728.94</td><td>893.42</td><td>624.42</td></tr><tr><td>2016</td><td>1</td><td>Eixample</td><td>870.25</td><td>1104.26</td><td>752.37</td></tr><tr><td>2016</td><td>1</td><td>Gracia</td><td>716.63</td><td>802.69</td><td>590.53</td></tr><tr><td>2016</td><td>1</td><td>Horta-Guinardo</td><td>624.58</td><td>749.81</td><td>513.53</td></tr><tr><td>2016</td><td>1</td><td>Les Corts</td><td>1081.04</td><td>1572.56</td><td>777.86</td></tr><tr><td>2016</td><td>1</td><td>Nou Barris</td><td>499.44</td><td>619.85</td><td>344.26</td></tr><tr><td>2016</td><td>1</td><td>Sant Andreu</td><td>514.15</td><td>665.34</td><td>142.34</td></tr><tr><td>2016</td><td>1</td><td>Sant Marti</td><td>751.62</td><td>1136</td><td>506.7</td></tr><tr><td>2016</td><td>1</td><td>Sants-Montjuic</td><td>583.9</td><td>664.66</td><td>360.88</td></tr><tr><td>2016</td><td>1</td><td>Sarria-Sant Gervasi</td><td>1107.04</td><td>1380.68</td><td>827.82</td></tr><tr><td>2016</td><td>2</td><td>Ciutat Vella</td><td>725.37</td><td>806.24</td><td>659.35</td></tr><tr><td>2016</td><td>2</td><td>Eixample</td><td>877.55</td><td>1120.4</td><td>739.86</td></tr><tr><td>2016</td><td>2</td><td>Gracia</td><td>735.12</td><td>780.36</td><td>592.76</td></tr><tr><td>2016</td><td>2</td><td>Horta-Guinardo</td><td>632.81</td><td>786.32</td><td>544.56</td></tr><tr><td>2016</td><td>2</td><td>Les Corts</td><td>1131.39</td><td>1660.43</td><td>821.2</td></tr><tr><td>2016</td><td>2</td><td>Nou Barris</td><td>532.02</td><td>621.43</td><td>427.97</td></tr><tr><td>2016</td><td>2</td><td>Sant Andreu</td><td>615.84</td><td>704.45</td><td>483.22</td></tr><tr><td>2016</td><td>2</td><td>Sant Marti</td><td>773.28</td><td>1151.48</td><td>521.08</td></tr><tr><td>2016</td><td>2</td><td>Sants-Montjuic</td><td>668.72</td><td>751.69</td><td>548.51</td></tr><tr><td>2016</td><td>2</td><td>Sarria-Sant Gervasi</td><td>1175.58</td><td>1560.7</td><td>891.63</td></tr><tr><td>2016</td><td>3</td><td>Ciutat Vella</td><td>761</td><td>851.63</td><td>666.17</td></tr><tr><td>2016</td><td>3</td><td>Eixample</td><td>928.63</td><td>1143.98</td><td>799.38</td></tr><tr><td>2016</td><td>3</td><td>Gracia</td><td>790.99</td><td>855.89</td><td>635.15</td></tr><tr><td>2016</td><td>3</td><td>Horta-Guinardo</td><td>652.83</td><td>796.92</td><td>557.55</td></tr><tr><td>2016</td><td>3</td><td>Les Corts</td><td>1177.28</td><td>1689.6</td><td>892.28</td></tr><tr><td>2016</td><td>3</td><td>Nou Barris</td><td>546.19</td><td>648.75</td><td>373.14</td></tr><tr><td>2016</td><td>3</td><td>Sant Andreu</td><td>572.52</td><td>712.32</td><td>256.45</td></tr><tr><td>2016</td><td>3</td><td>Sant Marti</td><td>824.95</td><td>1268.48</td><td>556.45</td></tr><tr><td>2016</td><td>3</td><td>Sants-Montjuic</td><td>695.31</td><td>764.38</td><td>577.47</td></tr><tr><td>2016</td><td>3</td><td>Sarria-Sant Gervasi</td><td>1222.17</td><td>1619.04</td><td>876.77</td></tr><tr><td>2016</td><td>4</td><td>Ciutat Vella</td><td>792.79</td><td>913.96</td><td>686.31</td></tr><tr><td>2016</td><td>4</td><td>Eixample</td><td>936.37</td><td>1174.38</td><td>806.4</td></tr><tr><td>2016</td><td>4</td><td>Gracia</td><td>782.05</td><td>829.23</td><td>653.69</td></tr><tr><td>2016</td><td>4</td><td>Horta-Guinardo</td><td>688.22</td><td>778.67</td><td>597.13</td></tr><tr><td>2016</td><td>4</td><td>Les Corts</td><td>1180.7</td><td>1692.2</td><td>866.43</td></tr><tr><td>2016</td><td>4</td><td>Nou Barris</td><td>542.04</td><td>684.2</td><td>301.82</td></tr><tr><td>2016</td><td>4</td><td>Sant Andreu</td><td>656.43</td><td>768.66</td><td>552.81</td></tr><tr><td>2016</td><td>4</td><td>Sant Marti</td><td>851.48</td><td>1285.61</td><td>571.6</td></tr><tr><td>2016</td><td>4</td><td>Sants-Montjuic</td><td>712.96</td><td>786.35</td><td>613.16</td></tr><tr><td>2016</td><td>4</td><td>Sarria-Sant Gervasi</td><td>1238.67</td><td>1490.72</td><td>904.17</td></tr><tr><td>2017</td><td>1</td><td>Ciutat Vella</td><td>814.58</td><td>905.26</td><td>722.78</td></tr><tr><td>2017</td><td>1</td><td>Eixample</td><td>942.79</td><td>1151.09</td><td>847.04</td></tr><tr><td>2017</td><td>1</td><td>Gracia</td><td>830.35</td><td>946.59</td><td>687.42</td></tr><tr><td>2017</td><td>1</td><td>Horta-Guinardo</td><td>700.25</td><td>816.05</td><td>597.09</td></tr><tr><td>2017</td><td>1</td><td>Les Corts</td><td>1229.78</td><td>1856.57</td><td>896.45</td></tr><tr><td>2017</td><td>1</td><td>Nou Barris</td><td>581.4</td><td>689.62</td><td>418.07</td></tr><tr><td>2017</td><td>1</td><td>Sant Andreu</td><td>636.22</td><td>716.78</td><td>497.84</td></tr><tr><td>2017</td><td>1</td><td>Sant Marti</td><td>851.62</td><td>1148.2</td><td>588.9</td></tr><tr><td>2017</td><td>1</td><td>Sants-Montjuic</td><td>723.65</td><td>806.34</td><td>680.17</td></tr><tr><td>2017</td><td>1</td><td>Sarria-Sant Gervasi</td><td>1236.7</td><td>1516.52</td><td>913.45</td></tr><tr><td>2017</td><td>2</td><td>Ciutat Vella</td><td>837.71</td><td>968.16</td><td>714.29</td></tr><tr><td>2017</td><td>2</td><td>Eixample</td><td>975.53</td><td>1218.18</td><td>867.97</td></tr><tr><td>2017</td><td>2</td><td>Gracia</td><td>839.96</td><td>917.84</td><td>701.29</td></tr><tr><td>2017</td><td>2</td><td>Horta-Guinardo</td><td>706.52</td><td>819.11</td><td>597.58</td></tr><tr><td>2017</td><td>2</td><td>Les Corts</td><td>1185.17</td><td>1666.63</td><td>882.05</td></tr><tr><td>2017</td><td>2</td><td>Nou Barris</td><td>552.83</td><td>699.81</td><td>302.52</td></tr><tr><td>2017</td><td>2</td><td>Sant Andreu</td><td>662.59</td><td>783.88</td><td>434.91</td></tr><tr><td>2017</td><td>2</td><td>Sant Marti</td><td>859.5</td><td>1345.63</td><td>606.61</td></tr><tr><td>2017</td><td>2</td><td>Sants-Montjuic</td><td>747.57</td><td>785.02</td><td>634.28</td></tr><tr><td>2017</td><td>2</td><td>Sarria-Sant Gervasi</td><td>1266.36</td><td>1646.76</td><td>902.42</td></tr><tr><td>2017</td><td>3</td><td>Ciutat Vella</td><td>869.67</td><td>1028.49</td><td>758.18</td></tr><tr><td>2017</td><td>3</td><td>Eixample</td><td>998.37</td><td>1179.11</td><td>906.78</td></tr><tr><td>2017</td><td>3</td><td>Gracia</td><td>852.83</td><td>912.51</td><td>799.44</td></tr><tr><td>2017</td><td>3</td><td>Horta-Guinardo</td><td>739.14</td><td>922.75</td><td>610.13</td></tr><tr><td>2017</td><td>3</td><td>Les Corts</td><td>1288.9</td><td>1882.42</td><td>970.71</td></tr><tr><td>2017</td><td>3</td><td>Nou Barris</td><td>596.91</td><td>750.43</td><td>423.09</td></tr><tr><td>2017</td><td>3</td><td>Sant Andreu</td><td>695.78</td><td>790.19</td><td>532.33</td></tr><tr><td>2017</td><td>3</td><td>Sant Marti</td><td>872.58</td><td>1189.26</td><td>625.13</td></tr><tr><td>2017</td><td>3</td><td>Sants-Montjuic</td><td>791.11</td><td>861.69</td><td>711.93</td></tr><tr><td>2017</td><td>3</td><td>Sarria-Sant Gervasi</td><td>1357.68</td><td>1757</td><td>962.41</td></tr><tr><td>2017</td><td>4</td><td>Ciutat Vella</td><td>862.67</td><td>993.16</td><td>766.03</td></tr><tr><td>2017</td><td>4</td><td>Eixample</td><td>992.83</td><td>1225.08</td><td>877.02</td></tr><tr><td>2017</td><td>4</td><td>Gracia</td><td>814.15</td><td>879.85</td><td>711.57</td></tr><tr><td>2017</td><td>4</td><td>Horta-Guinardo</td><td>727.57</td><td>865.42</td><td>609.11</td></tr><tr><td>2017</td><td>4</td><td>Les Corts</td><td>1239.02</td><td>1737.92</td><td>935.38</td></tr><tr><td>2017</td><td>4</td><td>Nou Barris</td><td>603.72</td><td>723.34</td><td>425.51</td></tr><tr><td>2017</td><td>4</td><td>Sant Andreu</td><td>690.84</td><td>805.1</td><td>535.92</td></tr><tr><td>2017</td><td>4</td><td>Sant Marti</td><td>894.57</td><td>1349.82</td><td>621.32</td></tr><tr><td>2017</td><td>4</td><td>Sants-Montjuic</td><td>779.06</td><td>827.36</td><td>728.07</td></tr><tr><td>2017</td><td>4</td><td>Sarria-Sant Gervasi</td><td>1264.91</td><td>1588.53</td><td>938.2</td></tr><tr><td>2018</td><td>1</td><td>Ciutat Vella</td><td>896.36</td><td>998.4</td><td>792.74</td></tr><tr><td>2018</td><td>1</td><td>Eixample</td><td>983.8</td><td>1191.43</td><td>883.75</td></tr><tr><td>2018</td><td>1</td><td>Gracia</td><td>845.46</td><td>899.65</td><td>741.23</td></tr><tr><td>2018</td><td>1</td><td>Horta-Guinardo</td><td>742.88</td><td>874.2</td><td>634.75</td></tr><tr><td>2018</td><td>1</td><td>Les Corts</td><td>1250.34</td><td>1799.91</td><td>948.77</td></tr><tr><td>2018</td><td>1</td><td>Nou Barris</td><td>642.54</td><td>720.9</td><td>507.16</td></tr><tr><td>2018</td><td>1</td><td>Sant Andreu</td><td>711.87</td><td>790.2</td><td>589.02</td></tr><tr><td>2018</td><td>1</td><td>Sant Marti</td><td>893.31</td><td>1272.26</td><td>682.32</td></tr><tr><td>2018</td><td>1</td><td>Sants-Montjuic</td><td>783.59</td><td>842.32</td><td>751.65</td></tr><tr><td>2018</td><td>1</td><td>Sarria-Sant Gervasi</td><td>1210.52</td><td>1613.41</td><td>895.7</td></tr><tr><td>2018</td><td>2</td><td>Ciutat Vella</td><td>940</td><td>1024.29</td><td>820.88</td></tr><tr><td>2018</td><td>2</td><td>Eixample</td><td>1010.09</td><td>1263.08</td><td>893.43</td></tr><tr><td>2018</td><td>2</td><td>Gracia</td><td>867.51</td><td>939.03</td><td>716.25</td></tr><tr><td>2018</td><td>2</td><td>Horta-Guinardo</td><td>735.99</td><td>864.72</td><td>637.17</td></tr><tr><td>2018</td><td>2</td><td>Les Corts</td><td>1187.1</td><td>1563.31</td><td>959.26</td></tr><tr><td>2018</td><td>2</td><td>Nou Barris</td><td>623.42</td><td>726.89</td><td>434.52</td></tr><tr><td>2018</td><td>2</td><td>Sant Andreu</td><td>730.97</td><td>798.39</td><td>598.29</td></tr><tr><td>2018</td><td>2</td><td>Sant Marti</td><td>952.25</td><td>1371.14</td><td>649.17</td></tr><tr><td>2018</td><td>2</td><td>Sants-Montjuic</td><td>781.13</td><td>834.68</td><td>719.33</td></tr><tr><td>2018</td><td>2</td><td>Sarria-Sant Gervasi</td><td>1208.23</td><td>1467.07</td><td>860.13</td></tr><tr><td>2018</td><td>3</td><td>Ciutat Vella</td><td>930.51</td><td>1012.49</td><td>849.32</td></tr><tr><td>2018</td><td>3</td><td>Eixample</td><td>1038.47</td><td>1216.7</td><td>934.89</td></tr><tr><td>2018</td><td>3</td><td>Gracia</td><td>876.14</td><td>924.81</td><td>756.36</td></tr><tr><td>2018</td><td>3</td><td>Horta-Guinardo</td><td>764.27</td><td>876.58</td><td>654.77</td></tr><tr><td>2018</td><td>3</td><td>Les Corts</td><td>1313.6</td><td>1849.52</td><td>1013.28</td></tr><tr><td>2018</td><td>3</td><td>Nou Barris</td><td>660.98</td><td>742.82</td><td>514.34</td></tr><tr><td>2018</td><td>3</td><td>Sant Andreu</td><td>743.88</td><td>823.74</td><td>597.93</td></tr><tr><td>2018</td><td>3</td><td>Sant Marti</td><td>884.76</td><td>1284.3</td><td>699.06</td></tr><tr><td>2018</td><td>3</td><td>Sants-Montjuic</td><td>819.55</td><td>871.41</td><td>755.18</td></tr><tr><td>2018</td><td>3</td><td>Sarria-Sant Gervasi</td><td>1335.03</td><td>1746.01</td><td>1021.27</td></tr><tr><td>2018</td><td>4</td><td>Ciutat Vella</td><td>949.56</td><td>1057.26</td><td>827.27</td></tr><tr><td>2018</td><td>4</td><td>Eixample</td><td>1065.95</td><td>1340.38</td><td>930.02</td></tr><tr><td>2018</td><td>4</td><td>Gracia</td><td>904.67</td><td>971.51</td><td>748.9</td></tr><tr><td>2018</td><td>4</td><td>Horta-Guinardo</td><td>760.53</td><td>876.65</td><td>653.21</td></tr><tr><td>2018</td><td>4</td><td>Les Corts</td><td>1202.27</td><td>1615.31</td><td>960.03</td></tr><tr><td>2018</td><td>4</td><td>Nou Barris</td><td>671.41</td><td>782.95</td><td>514.52</td></tr><tr><td>2018</td><td>4</td><td>Sant Andreu</td><td>737.08</td><td>840.01</td><td>564.56</td></tr><tr><td>2018</td><td>4</td><td>Sant Marti</td><td>948.72</td><td>1307.79</td><td>711.67</td></tr><tr><td>2018</td><td>4</td><td>Sants-Montjuic</td><td>814.96</td><td>834.64</td><td>778.52</td></tr><tr><td>2018</td><td>4</td><td>Sarria-Sant Gervasi</td><td>1263.11</td><td>1567.91</td><td>898.33</td></tr><tr><td>2019</td><td>1</td><td>Ciutat Vella</td><td>941.25</td><td>1060.9</td><td>822.6</td></tr><tr><td>2019</td><td>1</td><td>Eixample</td><td>1046.72</td><td>1269.1</td><td>936.3</td></tr><tr><td>2019</td><td>1</td><td>Gracia</td><td>882.44</td><td>937.3</td><td>750.6</td></tr><tr><td>2019</td><td>1</td><td>Horta-Guinardo</td><td>779.84</td><td>870.2</td><td>670.6</td></tr><tr><td>2019</td><td>1</td><td>Les Corts</td><td>1247</td><td>1732.5</td><td>938.5</td></tr><tr><td>2019</td><td>1</td><td>Nou Barris</td><td>684.39</td><td>791.9</td><td>575.4</td></tr><tr><td>2019</td><td>1</td><td>Sant Andreu</td><td>756.25</td><td>855.3</td><td>601.2</td></tr><tr><td>2019</td><td>1</td><td>Sant Marti</td><td>937.14</td><td>1304</td><td>694.8</td></tr><tr><td>2019</td><td>1</td><td>Sants-Montjuic</td><td>819.84</td><td>873</td><td>714.9</td></tr><tr><td>2019</td><td>1</td><td>Sarria-Sant Gervasi</td><td>1281.42</td><td>1645.9</td><td>1057.1</td></tr><tr><td>2019</td><td>2</td><td>Ciutat Vella</td><td>978.3</td><td>1112.1</td><td>867</td></tr><tr><td>2019</td><td>2</td><td>Eixample</td><td>1061.23</td><td>1277.9</td><td>942.9</td></tr><tr><td>2019</td><td>2</td><td>Gracia</td><td>935.48</td><td>1028.9</td><td>819.8</td></tr><tr><td>2019</td><td>2</td><td>Horta-Guinardo</td><td>795.78</td><td>1044</td><td>666.9</td></tr><tr><td>2019</td><td>2</td><td>Les Corts</td><td>1268.27</td><td>1746.7</td><td>973</td></tr><tr><td>2019</td><td>2</td><td>Nou Barris</td><td>688.32</td><td>775.3</td><td>559.8</td></tr><tr><td>2019</td><td>2</td><td>Sant Andreu</td><td>750.32</td><td>836.9</td><td>614.7</td></tr><tr><td>2019</td><td>2</td><td>Sant Marti</td><td>1001.65</td><td>1444.6</td><td>798.1</td></tr><tr><td>2019</td><td>2</td><td>Sants-Montjuic</td><td>834.33</td><td>867.5</td><td>753.1</td></tr><tr><td>2019</td><td>2</td><td>Sarria-Sant Gervasi</td><td>1307.38</td><td>1602.5</td><td>1115.7</td></tr><tr><td>2019</td><td>3</td><td>Ciutat Vella</td><td>960.83</td><td>1082.4</td><td>869.1</td></tr><tr><td>2019</td><td>3</td><td>Eixample</td><td>1103.8</td><td>1348.9</td><td>979.6</td></tr><tr><td>2019</td><td>3</td><td>Gracia</td><td>936.34</td><td>996.3</td><td>813.8</td></tr><tr><td>2019</td><td>3</td><td>Horta-Guinardo</td><td>800.86</td><td>902.2</td><td>703.3</td></tr><tr><td>2019</td><td>3</td><td>Les Corts</td><td>1368.1</td><td>1950.1</td><td>1040.3</td></tr><tr><td>2019</td><td>3</td><td>Nou Barris</td><td>682.21</td><td>792.2</td><td>532.6</td></tr><tr><td>2019</td><td>3</td><td>Sant Andreu</td><td>754.47</td><td>864.6</td><td>569.9</td></tr><tr><td>2019</td><td>3</td><td>Sant Marti</td><td>982.89</td><td>1409.4</td><td>728.3</td></tr><tr><td>2019</td><td>3</td><td>Sants-Montjuic</td><td>853.93</td><td>888.3</td><td>790.1</td></tr><tr><td>2019</td><td>3</td><td>Sarria-Sant Gervasi</td><td>1369.87</td><td>1614.8</td><td>1070.2</td></tr><tr><td>2019</td><td>4</td><td>Ciutat Vella</td><td>961</td><td>1139.7</td><td>844.9</td></tr><tr><td>2019</td><td>4</td><td>Eixample</td><td>1111.18</td><td>1333</td><td>980</td></tr><tr><td>2019</td><td>4</td><td>Gracia</td><td>950.44</td><td>1017.6</td><td>817.5</td></tr><tr><td>2019</td><td>4</td><td>Horta-Guinardo</td><td>809.08</td><td>954.5</td><td>700.2</td></tr><tr><td>2019</td><td>4</td><td>Les Corts</td><td>1405.9</td><td>2023.4</td><td>1078.1</td></tr><tr><td>2019</td><td>4</td><td>Nou Barris</td><td>688.08</td><td>801.8</td><td>561.4</td></tr><tr><td>2019</td><td>4</td><td>Sant Andreu</td><td>776.27</td><td>856.8</td><td>622.3</td></tr><tr><td>2019</td><td>4</td><td>Sant Marti</td><td>1003.41</td><td>1498.6</td><td>693.8</td></tr><tr><td>2019</td><td>4</td><td>Sants-Montjuic</td><td>791.18</td><td>884.8</td><td>350.5</td></tr><tr><td>2019</td><td>4</td><td>Sarria-Sant Gervasi</td><td>1380.12</td><td>1745</td><td>1099.8</td></tr><tr><td>2020</td><td>1</td><td>Ciutat Vella</td><td>976.05</td><td>1110.2</td><td>864.5</td></tr><tr><td>2020</td><td>1</td><td>Eixample</td><td>1094.53</td><td>1349.6</td><td>952.6</td></tr><tr><td>2020</td><td>1</td><td>Gracia</td><td>930.48</td><td>967.9</td><td>814.8</td></tr><tr><td>2020</td><td>1</td><td>Horta-Guinardo</td><td>822.18</td><td>963.4</td><td>698.9</td></tr><tr><td>2020</td><td>1</td><td>Les Corts</td><td>1228.8</td><td>1626.9</td><td>989.6</td></tr><tr><td>2020</td><td>1</td><td>Nou Barris</td><td>661</td><td>789.9</td><td>452</td></tr><tr><td>2020</td><td>1</td><td>Sant Andreu</td><td>739.93</td><td>873</td><td>584.1</td></tr><tr><td>2020</td><td>1</td><td>Sant Marti</td><td>979.8</td><td>1427.5</td><td>749.7</td></tr><tr><td>2020</td><td>1</td><td>Sants-Montjuic</td><td>859.17</td><td>891.4</td><td>810.1</td></tr><tr><td>2020</td><td>1</td><td>Sarria-Sant Gervasi</td><td>1337.62</td><td>1662.4</td><td>1053.9</td></tr><tr><td>2020</td><td>2</td><td>Ciutat Vella</td><td>917.65</td><td>1041</td><td>853.3</td></tr><tr><td>2020</td><td>2</td><td>Eixample</td><td>1061.23</td><td>1249.4</td><td>943.5</td></tr><tr><td>2020</td><td>2</td><td>Gracia</td><td>977.78</td><td>1060.5</td><td>910.3</td></tr><tr><td>2020</td><td>2</td><td>Horta-Guinardo</td><td>808.85</td><td>997.3</td><td>682.8</td></tr><tr><td>2020</td><td>2</td><td>Les Corts</td><td>1288.47</td><td>1822.7</td><td>946.1</td></tr><tr><td>2020</td><td>2</td><td>Nou Barris</td><td>668.3</td><td>803.2</td><td>508.4</td></tr><tr><td>2020</td><td>2</td><td>Sant Andreu</td><td>798.67</td><td>898.5</td><td>701</td></tr><tr><td>2020</td><td>2</td><td>Sant Marti</td><td>938.98</td><td>1446.1</td><td>696.9</td></tr><tr><td>2020</td><td>2</td><td>Sants-Montjuic</td><td>836.39</td><td>893.6</td><td>687.8</td></tr><tr><td>2020</td><td>2</td><td>Sarria-Sant Gervasi</td><td>1306.53</td><td>1679.1</td><td>1073.3</td></tr><tr><td>2020</td><td>3</td><td>Ciutat Vella</td><td>902.6</td><td>982.5</td><td>823.1</td></tr><tr><td>2020</td><td>3</td><td>Eixample</td><td>1077.22</td><td>1273.9</td><td>959.3</td></tr><tr><td>2020</td><td>3</td><td>Gracia</td><td>920.68</td><td>1001.2</td><td>777.6</td></tr><tr><td>2020</td><td>3</td><td>Horta-Guinardo</td><td>813.19</td><td>926.5</td><td>706</td></tr><tr><td>2020</td><td>3</td><td>Les Corts</td><td>1334.27</td><td>1932.3</td><td>1012.4</td></tr><tr><td>2020</td><td>3</td><td>Nou Barris</td><td>710.63</td><td>842</td><td>572.4</td></tr><tr><td>2020</td><td>3</td><td>Sant Andreu</td><td>786.67</td><td>858.4</td><td>668.5</td></tr><tr><td>2020</td><td>3</td><td>Sant Marti</td><td>956.07</td><td>1346.7</td><td>782.4</td></tr><tr><td>2020</td><td>3</td><td>Sants-Montjuic</td><td>856.86</td><td>892.3</td><td>820.2</td></tr><tr><td>2020</td><td>3</td><td>Sarria-Sant Gervasi</td><td>1338.3</td><td>1699.4</td><td>1073.4</td></tr><tr><td>2020</td><td>4</td><td>Ciutat Vella</td><td>888.7</td><td>1003.9</td><td>787</td></tr><tr><td>2020</td><td>4</td><td>Eixample</td><td>1023.08</td><td>1208.8</td><td>902.1</td></tr><tr><td>2020</td><td>4</td><td>Gracia</td><td>926.14</td><td>1026.8</td><td>790.4</td></tr><tr><td>2020</td><td>4</td><td>Horta-Guinardo</td><td>756.98</td><td>856.4</td><td>651.4</td></tr><tr><td>2020</td><td>4</td><td>Les Corts</td><td>1202.77</td><td>1577.1</td><td>993.3</td></tr><tr><td>2020</td><td>4</td><td>Nou Barris</td><td>674.68</td><td>756.1</td><td>514.1</td></tr><tr><td>2020</td><td>4</td><td>Sant Andreu</td><td>747.53</td><td>846.3</td><td>610</td></tr><tr><td>2020</td><td>4</td><td>Sant Marti</td><td>950.52</td><td>1392.6</td><td>731.6</td></tr><tr><td>2020</td><td>4</td><td>Sants-Montjuic</td><td>820.14</td><td>850.3</td><td>762.7</td></tr><tr><td>2020</td><td>4</td><td>Sarria-Sant Gervasi</td><td>1347.38</td><td>1729.5</td><td>1033.3</td></tr><tr><td>2021</td><td>1</td><td>Ciutat Vella</td><td>844.28</td><td>929.6</td><td>759.2</td></tr><tr><td>2021</td><td>1</td><td>Eixample</td><td>980.78</td><td>1176.7</td><td>887.1</td></tr><tr><td>2021</td><td>1</td><td>Gracia</td><td>867.88</td><td>959</td><td>745.4</td></tr><tr><td>2021</td><td>1</td><td>Horta-Guinardo</td><td>754.63</td><td>827</td><td>668.8</td></tr><tr><td>2021</td><td>1</td><td>Les Corts</td><td>1171.93</td><td>1598.2</td><td>927.3</td></tr><tr><td>2021</td><td>1</td><td>Nou Barris</td><td>665.72</td><td>762.5</td><td>520.2</td></tr><tr><td>2021</td><td>1</td><td>Sant Andreu</td><td>731.15</td><td>824.2</td><td>625.1</td></tr><tr><td>2021</td><td>1</td><td>Sant Marti</td><td>901.77</td><td>1298.9</td><td>704.2</td></tr><tr><td>2021</td><td>1</td><td>Sants-Montjuic</td><td>799.27</td><td>829.1</td><td>778.4</td></tr><tr><td>2021</td><td>1</td><td>Sarria-Sant Gervasi</td><td>1320.57</td><td>1578</td><td>990.1</td></tr><tr><td>2021</td><td>2</td><td>Ciutat Vella</td><td>846.3</td><td>934.1</td><td>774.2</td></tr><tr><td>2021</td><td>2</td><td>Eixample</td><td>990.5</td><td>1196.3</td><td>887.4</td></tr><tr><td>2021</td><td>2</td><td>Gracia</td><td>868.32</td><td>924.5</td><td>796.8</td></tr><tr><td>2021</td><td>2</td><td>Horta-Guinardo</td><td>761.35</td><td>884.2</td><td>653.5</td></tr><tr><td>2021</td><td>2</td><td>Les Corts</td><td>1194.63</td><td>1680.3</td><td>904.8</td></tr><tr><td>2021</td><td>2</td><td>Nou Barris</td><td>652.2</td><td>754.4</td><td>488.1</td></tr><tr><td>2021</td><td>2</td><td>Sant Andreu</td><td>699.27</td><td>827.2</td><td>447.5</td></tr><tr><td>2021</td><td>2</td><td>Sant Marti</td><td>871.59</td><td>1248.6</td><td>700.8</td></tr><tr><td>2021</td><td>2</td><td>Sants-Montjuic</td><td>791.23</td><td>815.4</td><td>772.4</td></tr><tr><td>2021</td><td>2</td><td>Sarria-Sant Gervasi</td><td>1231.88</td><td>1429</td><td>1024.4</td></tr><tr><td>2021</td><td>3</td><td>Ciutat Vella</td><td>863.5</td><td>968.4</td><td>770.5</td></tr><tr><td>2021</td><td>3</td><td>Eixample</td><td>1004.47</td><td>1168.4</td><td>912.4</td></tr><tr><td>2021</td><td>3</td><td>Gracia</td><td>888.48</td><td>961</td><td>755.5</td></tr><tr><td>2021</td><td>3</td><td>Horta-Guinardo</td><td>776.1</td><td>878.1</td><td>679.3</td></tr><tr><td>2021</td><td>3</td><td>Les Corts</td><td>1272.13</td><td>1816.5</td><td>982.9</td></tr><tr><td>2021</td><td>3</td><td>Nou Barris</td><td>668.81</td><td>769.9</td><td>547.7</td></tr><tr><td>2021</td><td>3</td><td>Sant Andreu</td><td>725.33</td><td>805.3</td><td>585</td></tr><tr><td>2021</td><td>3</td><td>Sant Marti</td><td>941.06</td><td>1343.1</td><td>736.1</td></tr><tr><td>2021</td><td>3</td><td>Sants-Montjuic</td><td>803.41</td><td>858.7</td><td>698.5</td></tr><tr><td>2021</td><td>3</td><td>Sarria-Sant Gervasi</td><td>1239.67</td><td>1566.5</td><td>1004.7</td></tr><tr><td>2021</td><td>4</td><td>Ciutat Vella</td><td>881.63</td><td>953</td><td>772.8</td></tr><tr><td>2021</td><td>4</td><td>Eixample</td><td>1026.43</td><td>1220.8</td><td>924.4</td></tr><tr><td>2021</td><td>4</td><td>Gracia</td><td>884.38</td><td>926.5</td><td>754.5</td></tr><tr><td>2021</td><td>4</td><td>Horta-Guinardo</td><td>767.95</td><td>859.1</td><td>675.7</td></tr><tr><td>2021</td><td>4</td><td>Les Corts</td><td>1217.57</td><td>1679.3</td><td>920.6</td></tr><tr><td>2021</td><td>4</td><td>Nou Barris</td><td>670.44</td><td>803.7</td><td>546.8</td></tr><tr><td>2021</td><td>4</td><td>Sant Andreu</td><td>731.04</td><td>825.4</td><td>616.7</td></tr><tr><td>2021</td><td>4</td><td>Sant Marti</td><td>951.38</td><td>1364.7</td><td>700.5</td></tr><tr><td>2021</td><td>4</td><td>Sants-Montjuic</td><td>801.81</td><td>872.5</td><td>691.9</td></tr><tr><td>2021</td><td>4</td><td>Sarria-Sant Gervasi</td><td>1292.73</td><td>1597.4</td><td>998.3</td></tr><tr><td>2022</td><td>1</td><td>Ciutat Vella</td><td>1030.3</td><td>1181.6</td><td>917</td></tr><tr><td>2022</td><td>1</td><td>Eixample</td><td>1058.65</td><td>1294.8</td><td>957.9</td></tr><tr><td>2022</td><td>1</td><td>Gracia</td><td>915.18</td><td>986</td><td>809.9</td></tr><tr><td>2022</td><td>1</td><td>Horta-Guinardo</td><td>762.56</td><td>888.9</td><td>671.3</td></tr><tr><td>2022</td><td>1</td><td>Les Corts</td><td>1221.13</td><td>1649.8</td><td>995</td></tr><tr><td>2022</td><td>1</td><td>Nou Barris</td><td>653.78</td><td>767</td><td>517.7</td></tr><tr><td>2022</td><td>1</td><td>Sant Andreu</td><td>752.48</td><td>847.2</td><td>616.9</td></tr><tr><td>2022</td><td>1</td><td>Sant Marti</td><td>929.59</td><td>1305</td><td>733.9</td></tr><tr><td>2022</td><td>1</td><td>Sants-Montjuic</td><td>837.3</td><td>971.8</td><td>728.7</td></tr><tr><td>2022</td><td>1</td><td>Sarria-Sant Gervasi</td><td>1281.17</td><td>1630.8</td><td>1054.9</td></tr><tr><td>2022</td><td>2</td><td>Ciutat Vella</td><td>971.6</td><td>1062.5</td><td>872</td></tr><tr><td>2022</td><td>2</td><td>Eixample</td><td>1102.08</td><td>1328.6</td><td>985.9</td></tr><tr><td>2022</td><td>2</td><td>Gracia</td><td>939.84</td><td>1010.3</td><td>759.2</td></tr><tr><td>2022</td><td>2</td><td>Horta-Guinardo</td><td>800.92</td><td>903.9</td><td>720.3</td></tr><tr><td>2022</td><td>2</td><td>Les Corts</td><td>1335.13</td><td>1944.5</td><td>993.1</td></tr><tr><td>2022</td><td>2</td><td>Nou Barris</td><td>698.13</td><td>855.5</td><td>574.9</td></tr><tr><td>2022</td><td>2</td><td>Sant Andreu</td><td>767.83</td><td>878.4</td><td>620</td></tr><tr><td>2022</td><td>2</td><td>Sant Marti</td><td>1011.13</td><td>1442.6</td><td>757</td></tr><tr><td>2022</td><td>2</td><td>Sants-Montjuic</td><td>927.93</td><td>1407.9</td><td>638.8</td></tr><tr><td>2022</td><td>2</td><td>Sarria-Sant Gervasi</td><td>1328.9</td><td>1767</td><td>894.9</td></tr></table>"
                    },
                    "metadata": {}
                }
            ],
            "execution_count": 1
        },
        {
            "cell_type": "markdown",
            "source": [
                "![](data:image/png;base64,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)"
            ],
            "metadata": {
                "language": "sql",
                "azdata_cell_guid": "fc34e1fc-7ed5-45b5-87ee-a0defb6cb7e5"
            },
            "attachments": {}
        }
    ]
}